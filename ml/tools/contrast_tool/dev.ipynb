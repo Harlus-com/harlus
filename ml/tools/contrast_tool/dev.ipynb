{
 "cells": [
  {
   "cell_type": "code",
   "execution_count": 1,
   "id": "75846029",
   "metadata": {},
   "outputs": [],
   "source": [
    "import nest_asyncio\n",
    "nest_asyncio.apply()\n",
    "\n",
    "import dotenv\n",
    "dotenv.load_dotenv()\n",
    "\n",
    "from src.contrast_tool.utils import load_config\n",
    "CONFIG_PATH = r\"C:\\Users\\info\\Desktop\\harlus\\ml\\tools\\contrast_tool\\src\\contrast_tool\\config.yaml\"\n",
    "config = load_config(CONFIG_PATH)\n",
    "\n",
    "from src.contrast_tool import (\n",
    "    ContrastTool,\n",
    "    ClaimQueryEngineToolLoader,\n",
    "    VerdictQueryEngineToolLoader,\n",
    "    SentenceRetrieverToolLoader,\n",
    ")"
   ]
  },
  {
   "cell_type": "code",
   "execution_count": 2,
   "id": "8fd2ea9e",
   "metadata": {},
   "outputs": [
    {
     "name": "stdout",
     "output_type": "stream",
     "text": [
      "Started parsing the file under job_id cd9e2d4e-2493-4b7c-ae93-b67c7fff8dfb\n",
      "Started parsing the file under job_id bd4b397a-566c-4e14-bb43-e4e64c1c73ce\n",
      " - building retriever query engine ...\n",
      "Generated 5 sub questions.\n",
      "\u001b[1;3;38;2;237;90;200m[file] Q: What is the official sales guidance for AMAT for Q3 2024, including the range of plus minus $400 million?\n",
      "\u001b[0m\u001b[1;3;38;2;90;149;237m[file] Q: What was AMAT's sales figure for Q3 2023 to calculate the year-over-year growth of 3.5%?\n",
      "\u001b[0m\u001b[1;3;38;2;11;159;203m[file] Q: What factors are contributing to the projected sales growth for AMAT in Q3 2024?\n",
      "\u001b[0m\u001b[1;3;38;2;155;135;227m[file] Q: How does the $6.65 billion sales guidance for Q3 2024 compare to previous quarters' guidance?\n",
      "\u001b[0m\u001b[1;3;38;2;237;90;200m[file] Q: What are the market conditions and trends affecting AMAT's sales forecast for Q3 2024?\n",
      "\u001b[0m\u001b[1;3;38;2;90;149;237m[file] A: $4,676\n",
      "\u001b[0m\u001b[1;3;38;2;237;90;200m[file] A: $6.93 billion\n",
      "\u001b[0m\u001b[1;3;38;2;155;135;227m[file] A: The $6.65 billion sales guidance for Q3 2024 is lower than the actual net revenue reported for Q3 2024, which was $6.778 billion.\n",
      "\u001b[0m\u001b[1;3;38;2;11;159;203m[file] A: Factors contributing to the projected sales growth for AMAT in Q3 2024 include the level of demand for their products, global economic, political, and industry conditions, consumer demand for electronic products, demand for semiconductors, customers' technology and capacity requirements, the introduction of new and innovative technologies, market acceptance of existing and newly developed products, the ability to expand current markets and develop new markets, and the ability to meet customer demand.\n",
      "\u001b[0m\u001b[1;3;38;2;237;90;200m[file] A: Market conditions and trends affecting AMAT's sales forecast for Q3 2024 include the level of demand for their products, global economic, political, and industry conditions, changes in interest rates and prices for goods and services, global trade issues, customer demand for electronic products and semiconductors, the introduction of new technologies, the ability to develop and support new products, market acceptance of existing and new products, the ability to expand current markets and develop new ones, cybersecurity incidents, the effects of regional or global health epidemics, acquisitions, investments, divestitures, changes in income tax laws, variability of operating expenses, and the ability to accurately forecast future results and market conditions.\n",
      "\u001b[0m{\"status\":\"false\",\"explanation\":\"The official sales guidance for AMAT for Q3 2024 is $6.93 billion, not $6.65 billion. The claim understates the sales guidance by $280 million. The percent error is |($6.65 billion - $6.93 billion) / $6.93 billion| x 100% = 4.0%.\"}\n",
      "Generated 5 sub questions.\n",
      "\u001b[1;3;38;2;237;90;200m[file] Q: What is the projected revenue for Q3 2024 to calculate the gross margin?\n",
      "\u001b[0m\u001b[1;3;38;2;90;149;237m[file] Q: What are the expected costs of goods sold (COGS) for Q3 2024?\n",
      "\u001b[0m\u001b[1;3;38;2;11;159;203m[file] Q: What was the gross margin for Q3 2023, and how was it calculated?\n",
      "\u001b[0m\u001b[1;3;38;2;155;135;227m[file] Q: What factors are contributing to the increase in gross margin from 46.2% to 47%?\n",
      "\u001b[0m\u001b[1;3;38;2;237;90;200m[file] Q: Are there any changes in pricing strategy or cost structure that could impact the gross margin for Q3 2024?\n",
      "\u001b[0m\u001b[1;3;38;2;155;135;227m[file] A: Certain items associated with acquisitions and non-GAAP adjustments are contributing to the increase in gross margin from 46.2% to 47%.\n",
      "\u001b[0m\u001b[1;3;38;2;237;90;200m[file] A: There are no specific details provided in the context that indicate changes in pricing strategy or cost structure that could impact the gross margin for Q3 2024.\n",
      "\u001b[0m\u001b[1;3;38;2;237;90;200m[file] A: The projected revenue for Q3 2024 is approximately $6.93 billion.\n",
      "\u001b[0m\u001b[1;3;38;2;11;159;203m[file] A: The gross margin for Q3 2023 was 46.3%. It was calculated by dividing the gross profit by the net revenue and then multiplying by 100 to get the percentage.\n",
      "\u001b[0m\u001b[1;3;38;2;90;149;237m[file] A: The expected costs of goods sold (COGS) for Q3 2024 are not explicitly provided in the context information.\n",
      "\u001b[0m{\"status\":\"true\",\"explanation\":\"The gross margin for Q3 2024 is expected to be 47%, which is an increase from 46.2% in the same quarter one year ago. This increase is attributed to certain items associated with acquisitions and non-GAAP adjustments.\"}\n",
      "Generated 5 sub questions.\n",
      "\u001b[1;3;38;2;237;90;200m[file] Q: What are the key factors contributing to the expected increase in adjusted EPS from $1.90 to $2.01 for Q3 2024?\n",
      "\u001b[0m\u001b[1;3;38;2;90;149;237m[file] Q: How does the projected adjusted EPS of $2.01 for Q3 2024 compare to analyst estimates or consensus forecasts?\n",
      "\u001b[0m\u001b[1;3;38;2;11;159;203m[file] Q: What were the actual financial results for Q3 2023 that led to the adjusted EPS of $1.90?\n",
      "\u001b[0m\u001b[1;3;38;2;155;135;227m[file] Q: What changes in revenue, expenses, or other financial metrics are anticipated to impact the adjusted EPS for Q3 2024?\n",
      "\u001b[0m\u001b[1;3;38;2;237;90;200m[file] Q: Are there any significant one-time items or adjustments that could affect the adjusted EPS calculation for Q3 2024?\n",
      "\u001b[0m\u001b[1;3;38;2;90;149;237m[file] A: The projected adjusted EPS of $2.01 for Q3 2024 is within the range provided by the company, which is expected to be in the range of $2.00 to $2.36.\n",
      "\u001b[0m\u001b[1;3;38;2;11;159;203m[file] A: The actual financial results for Q3 2023 that led to the adjusted EPS of $1.90 were a net income of $1,600 and a non-GAAP diluted EPS of $1.90.\n",
      "\u001b[0m\u001b[1;3;38;2;237;90;200m[file] A: There are certain one-time items or adjustments that could affect the adjusted EPS calculation for Q3 2024. These include known charges related to completed acquisitions, a normalized tax benefit of share-based compensation, a net income tax benefit related to intra-entity intangible asset transfers, and potential unknown items such as additional charges related to acquisitions or other non-operational or unusual items, as well as other tax-related items that are uncertain at this time.\n",
      "\u001b[0m\u001b[1;3;38;2;155;135;227m[file] A: The adjusted EPS for Q3 2024 is anticipated to be impacted by known charges related to completed acquisitions, the normalized tax benefit of share-based compensation, and a net income tax benefit related to intra-entity intangible asset transfers. Additionally, any unknown items such as additional charges related to acquisitions or other non-operational or unusual items, as well as other tax-related items, could also impact the adjusted EPS for Q3 2024.\n",
      "\u001b[0m\u001b[1;3;38;2;237;90;200m[file] A: The key factors contributing to the expected increase in adjusted EPS from $1.90 to $2.01 for Q3 2024 are the exclusion of known charges related to completed acquisitions, the inclusion of the normalized tax benefit of share-based compensation, and the net income tax benefit related to intra-entity intangible asset transfers. Additionally, the adjusted EPS does not reflect any unknown items at the time of the outlook, such as additional charges related to acquisitions or other non-operational or unusual items, as well as other tax-related items that are uncertain and difficult to predict.\n",
      "\u001b[0m{\"status\":\"true\",\"explanation\":\"The adjusted EPS for Q3 2024 is expected to increase from $1.90 to $2.01. This expectation is based on several factors, including the exclusion of known charges related to completed acquisitions, the inclusion of the normalized tax benefit of share-based compensation, and the net income tax benefit related to intra-entity intangible asset transfers. The projected adjusted EPS of $2.01 is within the company's provided range of $2.00 to $2.36, confirming the expectation of an increase from the previous year's $1.90.\"}\n",
      "Generated 5 sub questions.\n",
      "\u001b[1;3;38;2;237;90;200m[file] Q: What is AMAT's projected revenue from HBM equipment for 2024?\n",
      "\u001b[0m\u001b[1;3;38;2;90;149;237m[file] Q: What factors are driving the expected sixfold increase in HBM equipment revenue?\n",
      "\u001b[0m\u001b[1;3;38;2;11;159;203m[file] Q: How does the $600 million revenue projection for HBM equipment compare to previous years?\n",
      "\u001b[0m\u001b[1;3;38;2;155;135;227m[file] Q: What market trends or demand forecasts support AMAT's revenue expectations for HBM equipment?\n",
      "\u001b[0m\u001b[1;3;38;2;237;90;200m[file] Q: Are there any risks or challenges that could impact AMAT's revenue from HBM equipment in 2024?\n",
      "\u001b[0m\u001b[1;3;38;2;237;90;200m[file] A: The information provided does not contain specific details about AMAT's projected revenue from HBM equipment for 2024.\n",
      "\u001b[0m\u001b[1;3;38;2;11;159;203m[file] A: The $600 million revenue projection for HBM equipment is not directly provided in the context information.\n",
      "\u001b[0m\u001b[1;3;38;2;155;135;227m[file] A: The market trends or demand forecasts that support AMAT's revenue expectations for HBM equipment include factors such as the level of demand for their products, global economic conditions, consumer demand for electronic products, demand for semiconductors, customers' technology and capacity requirements, market acceptance of existing and newly developed products, and the introduction of new and innovative technologies. These factors play a crucial role in shaping the revenue expectations for AMAT's HBM equipment.\n",
      "\u001b[0m\u001b[1;3;38;2;90;149;237m[file] A: Factors driving the expected sixfold increase in HBM equipment revenue include the level of demand for products, global economic, political, and industry conditions, changes in interest rates and prices for goods and services, the introduction of new and innovative technologies, the ability to develop, deliver, and support new products and technologies, market acceptance of existing and newly developed products, and the ability to expand current markets, increase market share, and develop new markets.\n",
      "\u001b[0m\u001b[1;3;38;2;237;90;200m[file] A: Factors such as the level of demand for AMAT's products, global economic and industry conditions, changes in trade policies, geopolitical turmoil, customer demand for electronic products, technology transitions, ability to develop and support new products, market acceptance of products, cybersecurity incidents, and compliance with regulations could impact AMAT's revenue from HBM equipment in 2024.\n",
      "\u001b[0m{\"status\":\"unknown\",\"explanation\":\"The context does not provide specific information about AMAT's projected revenue from HBM equipment for 2024, nor does it confirm the $600 million figure. It only mentions a sixfold increase in revenue without specifying the base amount or the final projected revenue.\"}\n",
      "Generated 5 sub questions.\n",
      "\u001b[1;3;38;2;237;90;200m[file] Q: What specific revenue projections does AMAT have for gate-all-around nodes in 2024?\n",
      "\u001b[0m\u001b[1;3;38;2;90;149;237m[file] Q: What factors are driving the expected revenue growth for gate-all-around nodes in 2025?\n",
      "\u001b[0m\u001b[1;3;38;2;11;159;203m[file] Q: How does AMAT define 'gate-all-around nodes' in their financial reports?\n",
      "\u001b[0m\u001b[1;3;38;2;155;135;227m[file] Q: What market trends or customer demand are influencing AMAT's revenue expectations for gate-all-around nodes?\n",
      "\u001b[0m\u001b[1;3;38;2;237;90;200m[file] Q: What historical revenue figures does AMAT have for gate-all-around nodes to support the 2024 and 2025 projections?\n",
      "\u001b[0m\u001b[1;3;38;2;155;135;227m[file] A: The market trends and customer demand for gate-all-around nodes are influencing AMAT's revenue expectations.\n",
      "\u001b[0m\u001b[1;3;38;2;11;159;203m[file] A: AMAT does not define 'gate-all-around nodes' in their financial reports.\n",
      "\u001b[0m\u001b[1;3;38;2;237;90;200m[file] A: There is no specific mention of historical revenue figures for gate-all-around nodes in the provided context.\n",
      "\u001b[0m\u001b[1;3;38;2;237;90;200m[file] A: AMAT does not provide specific revenue projections for gate-all-around nodes in 2024 in the provided context information.\n",
      "\u001b[0m\u001b[1;3;38;2;90;149;237m[file] A: The factors driving the expected revenue growth for gate-all-around nodes in 2025 include the anticipated growth and trends in the semiconductor industry, the demand for semiconductors, customers' technology and capacity requirements, the introduction of new and innovative technologies, the ability to develop, deliver, and support new products and technologies, as well as the market acceptance of existing and newly developed products.\n",
      "\u001b[0m{\"status\":\"unknown\",\"explanation\":\"There is no specific revenue projection provided by AMAT for gate-all-around nodes in 2024, and no historical revenue figures are mentioned to support the claim. Additionally, the context does not provide any specific revenue figures for 2025, making it impossible to verify the claim.\"}\n",
      "Generated 5 sub questions.\n",
      "\u001b[1;3;38;2;237;90;200m[file] Q: What is the current FCF to Equity yield and its historical trend leading up to 2027?\n",
      "\u001b[0m\u001b[1;3;38;2;90;149;237m[file] Q: What are the key drivers expected to influence the FCF to Equity yield growth to 4.7% by 2027?\n",
      "\u001b[0m\u001b[1;3;38;2;11;159;203m[file] Q: What assumptions are being made regarding market conditions and company performance that support the 4.7% yield projection?\n",
      "\u001b[0m\u001b[1;3;38;2;155;135;227m[file] Q: Are there any comparable companies or industry benchmarks that validate the expected FCF to Equity yield of 4.7%?\n",
      "\u001b[0m\u001b[1;3;38;2;237;90;200m[file] Q: What methodologies or models are being used to forecast the FCF to Equity yield growth to 4.7% by 2027?\n",
      "\u001b[0m\u001b[1;3;38;2;237;90;200m[file] A: The current Free Cash Flow (FCF) to Equity yield is not explicitly provided in the context information. Additionally, there is no historical trend leading up to 2027 mentioned in the data provided.\n",
      "\u001b[0m\u001b[1;3;38;2;155;135;227m[file] A: There is no specific information provided in the context regarding comparable companies or industry benchmarks that validate the expected FCF to Equity yield of 4.7%.\n",
      "\u001b[0m\u001b[1;3;38;2;11;159;203m[file] A: Assumptions regarding market conditions and company performance that support the 4.7% yield projection include the level of demand for products, global economic and industry conditions, changes in interest rates and prices, geopolitical factors, consumer demand for electronic products, demand for semiconductors, technology transitions, market acceptance of products, ability to develop and support new technologies, ability to meet customer demand, ability to expand markets and increase market share, ability to protect intellectual property rights, cybersecurity incidents, operational and strategic initiatives, compliance with regulations, variability of operating expenses, accurate forecasting, and overall business needs.\n",
      "\u001b[0m\u001b[1;3;38;2;90;149;237m[file] A: Factors that could influence the FCF to Equity yield growth to 4.7% by 2027 include the level of demand for products, global economic and political conditions, changes in interest rates and prices, trade issues and policies, technology transitions, development of new products and technologies, market acceptance, intellectual property rights protection, cybersecurity incidents, operational and strategic initiatives, acquisitions, investments, divestitures, income tax laws, operating expenses variability, compliance with regulations, and other risks and uncertainties described in SEC filings.\n",
      "\u001b[0m\u001b[1;3;38;2;237;90;200m[file] A: DCF (Discounted Cash Flow) analysis is commonly used to forecast the Free Cash Flow (FCF) to Equity yield growth. This methodology involves projecting future cash flows, discounting them back to present value using an appropriate discount rate, and deriving the FCF to Equity yield growth based on these calculations.\n",
      "\u001b[0m{\"status\":\"unknown\",\"explanation\":\"The context does not provide specific evidence or data to confirm or refute the claim that the FCF to Equity yield will grow to 4.7% by 2027. While it mentions factors and assumptions that could influence this growth, it lacks concrete data or comparable benchmarks to validate the expected yield.\"}\n",
      "file_path='C:\\\\Users\\\\info\\\\Desktop\\\\harlus\\\\ml\\\\tools\\\\contrast_tool\\\\data\\\\AMAT Q1 24 results.pdf' text='The official sales guidance for AMAT for Q3 2024 is $6.93 billion, not $6.65 billion. The claim understates the sales guidance by $280 million. The percent error is |($6.65 billion - $6.93 billion) / $6.93 billion| x 100% = 4.0%.' highlight_area=HighlightArea(bounding_boxes=[BoundingBox(left=11.317647048850464, top=86.33916064946338, width=7.168923172296263, height=1.5241834852430556, page=1), BoundingBox(left=23.513070898118364, top=86.33916064946338, width=66.35881311753216, height=1.5241834852430556, page=1), BoundingBox(left=23.513070898118364, top=87.86946306324968, width=7.370730630712571, height=1.5241834852430556, page=1)], jump_to_page=1) links=[LinkComment(file_path='C:\\\\Users\\\\info\\\\Desktop\\\\harlus\\\\ml\\\\tools\\\\contrast_tool\\\\data\\\\AMAT Q3 2024 Earnings Release.pdf', highlight_area=HighlightArea(bounding_boxes=[BoundingBox(left=8.088235294117647, top=8.16133287217882, width=81.32093840954352, height=3.985056250986427, page=3), BoundingBox(left=8.088235294117647, top=12.274971393623737, width=9.687907399694904, height=1.5380859375, page=3)], jump_to_page=3), text=None)] verdict='false'\n",
      "file_path='C:\\\\Users\\\\info\\\\Desktop\\\\harlus\\\\ml\\\\tools\\\\contrast_tool\\\\data\\\\AMAT Q1 24 results.pdf' text='The gross margin for Q3 2024 is expected to be 47%, which is an increase from 46.2% in the same quarter one year ago. This increase is attributed to certain items associated with acquisitions and non-GAAP adjustments.' highlight_area=HighlightArea(bounding_boxes=[BoundingBox(left=59.85242556902318, top=7.024017006459863, width=30.030209410424323, height=1.5241820402819701, page=2), BoundingBox(left=23.513070898118364, top=8.554319901899857, width=45.33754236557904, height=1.5241815586282748, page=2)], jump_to_page=2) links=[LinkComment(file_path='C:\\\\Users\\\\info\\\\Desktop\\\\harlus\\\\ml\\\\tools\\\\contrast_tool\\\\data\\\\AMAT Q3 2024 Earnings Release.pdf', highlight_area=HighlightArea(bounding_boxes=[BoundingBox(left=8.088235294117647, top=8.049658573035037, width=83.22843663832721, height=32.04496364400845, page=2), BoundingBox(left=8.517974030737783, top=11.412880637428978, width=69.62892183291368, height=4.867815730547664, page=2), BoundingBox(left=57.66013151679943, top=11.412880637428978, width=31.086930418326187, height=4.95240953233507, page=2), BoundingBox(left=62.67810397677951, top=14.967030226582228, width=3.6764705882352944, height=1.3982599431818181, page=2), BoundingBox(left=69.42483739915237, top=14.967030226582228, width=0.8169934640522877, height=1.3982599431818181, page=2), BoundingBox(left=74.44280985913245, top=14.967030226582228, width=3.6764705882352944, height=1.3982599431818181, page=2), BoundingBox(left=85.40033078661152, top=14.967030226582228, width=2.1781073676215277, height=1.3982599431818181, page=2), BoundingBox(left=8.517974030737783, top=16.77637581873422, width=8.844770169725605, height=1.3982599431818181, page=2), BoundingBox(left=63.495097440831806, top=16.860969620521622, width=4.764701494204453, height=1.3982599431818181, page=2), BoundingBox(left=75.25980332318474, top=16.860969620521622, width=4.764701494204453, height=1.3982599431818181, page=2), BoundingBox(left=83.58496871649051, top=16.860969620521622, width=5.808836494395935, height=1.3982599431818181, page=2), BoundingBox(left=8.517974030737783, top=18.67031521267361, width=11.560456893023323, height=1.3982599431818181, page=2), BoundingBox(left=63.495097440831806, top=18.754909014461017, width=4.764701494204453, height=1.3982599431818181, page=2), BoundingBox(left=75.25980332318474, top=18.754909014461017, width=4.764701494204453, height=1.3982599431818181, page=2), BoundingBox(left=83.26797485351562, top=18.754909014461017, width=6.4428142472809435, height=1.3982599431818181, page=2), BoundingBox(left=8.517974030737783, top=20.564254606613005, width=7.570261113783892, height=1.3982599431818181, page=2), BoundingBox(left=57.66013151679943, top=20.64884840840041, width=0.8169934640522877, height=1.3982599431818181, page=2), BoundingBox(left=62.67810397677951, top=20.64884840840041, width=3.6764705882352944, height=1.3982599431818181, page=2), BoundingBox(left=69.42483739915237, top=20.64884840840041, width=0.8169934640522877, height=1.3982599431818181, page=2), BoundingBox(left=74.44280985913245, top=20.64884840840041, width=3.6764705882352944, height=1.3982599431818181, page=2), BoundingBox(left=85.40033078661152, top=20.64884840840041, width=2.1781073676215277, height=1.3982599431818181, page=2), BoundingBox(left=8.517974030737783, top=22.458194000552396, width=17.183007757648145, height=1.3982599431818181, page=2), BoundingBox(left=57.66013151679943, top=22.542787802339802, width=0.8169934640522877, height=1.3982599431818181, page=2), BoundingBox(left=63.495097440831806, top=22.542787802339802, width=2.8594771241830066, height=1.3982599431818181, page=2), BoundingBox(left=69.42483739915237, top=22.542787802339802, width=0.8169934640522877, height=1.3982599431818181, page=2), BoundingBox(left=75.25980332318474, top=22.542787802339802, width=2.8594771241830066, height=1.3982599431818181, page=2), BoundingBox(left=84.99183405458538, top=22.542787802339802, width=2.9951008316738155, height=1.3982599431818181, page=2), BoundingBox(left=25.87745018254698, top=24.342030226582228, width=13.563729579152625, height=1.3982599431818181, page=2), BoundingBox(left=8.517974030737783, top=26.15137581873422, width=16.6960828444537, height=1.3982599431818181, page=2), BoundingBox(left=63.495097440831806, top=26.235969620521622, width=4.764701494204453, height=1.3982599431818181, page=2), BoundingBox(left=75.25980332318474, top=26.235969620521622, width=4.764701494204453, height=1.3982599431818181, page=2), BoundingBox(left=83.58496871649051, top=26.235969620521622, width=5.808836494395935, height=1.3982599431818181, page=2), BoundingBox(left=8.517974030737783, top=28.04531521267361, width=19.41177081438451, height=1.3982599431818181, page=2), BoundingBox(left=63.495097440831806, top=28.12990901446102, width=4.764701494204453, height=1.3982599431818181, page=2), BoundingBox(left=75.25980332318474, top=28.12990901446102, width=4.764701494204453, height=1.3982599431818181, page=2), BoundingBox(left=83.26797485351562, top=28.12990901446102, width=6.4428142472809435, height=1.3982599431818181, page=2), BoundingBox(left=8.517974030737783, top=29.939254606613, width=15.421570048612706, height=1.3982599431818181, page=2), BoundingBox(left=57.66013151679943, top=30.02384840840041, width=0.8169934640522877, height=1.3982599431818181, page=2), BoundingBox(left=62.67810397677951, top=30.02384840840041, width=3.6764705882352944, height=1.3982599431818181, page=2), BoundingBox(left=69.42483739915237, top=30.02384840840041, width=0.8169934640522877, height=1.3982599431818181, page=2), BoundingBox(left=74.44280985913245, top=30.02384840840041, width=3.6764705882352944, height=1.3982599431818181, page=2), BoundingBox(left=84.99183405458538, top=30.02384840840041, width=2.9951008316738155, height=1.3982599431818181, page=2), BoundingBox(left=8.517974030737783, top=31.8331940005524, width=15.96895417356803, height=1.3982599431818181, page=2), BoundingBox(left=57.66013151679943, top=31.917787802339802, width=0.8169934640522877, height=1.3982599431818181, page=2), BoundingBox(left=63.495097440831806, top=31.917787802339802, width=2.8594771241830066, height=1.3982599431818181, page=2), BoundingBox(left=69.42483739915237, top=31.917787802339802, width=0.8169934640522877, height=1.3982599431818181, page=2), BoundingBox(left=75.25980332318474, top=31.917787802339802, width=2.8594771241830066, height=1.3982599431818181, page=2), BoundingBox(left=84.99183405458538, top=31.917787802339802, width=2.9951008316738155, height=1.3982599431818181, page=2), BoundingBox(left=8.517974030737783, top=33.727133394491794, width=17.46078753003887, height=1.3982599431818181, page=2), BoundingBox(left=57.66013151679943, top=33.8117271962792, width=0.8169934640522877, height=1.3982599431818181, page=2), BoundingBox(left=62.67810397677951, top=33.8117271962792, width=3.6764705882352944, height=1.3982599431818181, page=2), BoundingBox(left=69.42483739915237, top=33.8117271962792, width=0.8169934640522877, height=1.3982599431818181, page=2), BoundingBox(left=74.44280985913245, top=33.8117271962792, width=3.6764705882352944, height=1.3982599431818181, page=2), BoundingBox(left=84.44771361506842, top=33.8117271962792, width=4.08334171070772, height=1.3982599431818181, page=2)], jump_to_page=2), text=None)] verdict='true'\n",
      "file_path='C:\\\\Users\\\\info\\\\Desktop\\\\harlus\\\\ml\\\\tools\\\\contrast_tool\\\\data\\\\AMAT Q1 24 results.pdf' text=\"The adjusted EPS for Q3 2024 is expected to increase from $1.90 to $2.01. This expectation is based on several factors, including the exclusion of known charges related to completed acquisitions, the inclusion of the normalized tax benefit of share-based compensation, and the net income tax benefit related to intra-entity intangible asset transfers. The projected adjusted EPS of $2.01 is within the company's provided range of $2.00 to $2.36, confirming the expectation of an increase from the previous year's $1.90.\" highlight_area=HighlightArea(bounding_boxes=[BoundingBox(left=69.33396781971251, top=8.554319901899857, width=20.470069436465995, height=1.5241815586282748, page=2), BoundingBox(left=23.513070898118364, top=10.08715003427833, width=32.879389345256335, height=1.5241815586282748, page=2)], jump_to_page=2) links=[LinkComment(file_path='C:\\\\Users\\\\info\\\\Desktop\\\\harlus\\\\ml\\\\tools\\\\contrast_tool\\\\data\\\\AMAT Q3 2024 Earnings Release.pdf', highlight_area=HighlightArea(bounding_boxes=[BoundingBox(left=18.225489099041308, top=12.274971393623737, width=52.21765804914088, height=1.5380859375, page=3)], jump_to_page=3), text=None)] verdict='true'\n",
      "file_path='C:\\\\Users\\\\info\\\\Desktop\\\\harlus\\\\ml\\\\tools\\\\contrast_tool\\\\data\\\\AMAT Q1 24 results.pdf' text=\"The context does not provide specific information about AMAT's projected revenue from HBM equipment for 2024, nor does it confirm the $600 million figure. It only mentions a sixfold increase in revenue without specifying the base amount or the final projected revenue.\" highlight_area=HighlightArea(bounding_boxes=[BoundingBox(left=34.403974246355446, top=55.63891632388337, width=55.44074314092499, height=1.5241796320134944, page=1), BoundingBox(left=23.513070898118364, top=57.16921873766967, width=36.37489867366217, height=1.5241796320134944, page=1)], jump_to_page=1) links=[] verdict='unknown'\n",
      "file_path='C:\\\\Users\\\\info\\\\Desktop\\\\harlus\\\\ml\\\\tools\\\\contrast_tool\\\\data\\\\AMAT Q1 24 results.pdf' text='There is no specific revenue projection provided by AMAT for gate-all-around nodes in 2024, and no historical revenue figures are mentioned to support the claim. Additionally, the context does not provide any specific revenue figures for 2025, making it impossible to verify the claim.' highlight_area=HighlightArea(bounding_boxes=[BoundingBox(left=43.242665209801366, top=30.041692714498502, width=46.56951006721048, height=1.5241815586282748, page=2), BoundingBox(left=23.513070898118364, top=31.57578670617306, width=66.3091173358992, height=1.5241796320134944, page=2)], jump_to_page=2) links=[] verdict='unknown'\n",
      "file_path='C:\\\\Users\\\\info\\\\Desktop\\\\harlus\\\\ml\\\\tools\\\\contrast_tool\\\\data\\\\AMAT Q1 24 results.pdf' text='The context does not provide specific evidence or data to confirm or refute the claim that the FCF to Equity yield will grow to 4.7% by 2027. While it mentions factors and assumptions that could influence this growth, it lacks concrete data or comparable benchmarks to validate the expected yield.' highlight_area=HighlightArea(bounding_boxes=[BoundingBox(left=84.61571986379187, top=51.53032938639323, width=5.198081022773692, height=1.5241796320134944, page=2), BoundingBox(left=23.513070898118364, top=53.06315566554214, width=66.31210925532322, height=1.5241796320134944, page=2), BoundingBox(left=23.513070898118364, top=54.59346193255801, width=25.476114111008986, height=1.5241796320134944, page=2)], jump_to_page=2) links=[] verdict='unknown'\n"
     ]
    }
   ],
   "source": [
    "old_doc = r\"C:\\Users\\info\\Desktop\\harlus\\ml\\tools\\contrast_tool\\data\\AMAT Q1 24 results.pdf\"\n",
    "new_doc = r\"C:\\Users\\info\\Desktop\\harlus\\ml\\tools\\contrast_tool\\data\\AMAT Q3 2024 Earnings Release.pdf\"\n",
    "\n",
    "thesis_qengine = await ClaimQueryEngineToolLoader().load(old_doc)\n",
    "thesis_sentence_retriever = await SentenceRetrieverToolLoader().load(old_doc)\n",
    "\n",
    "update_qengine = await VerdictQueryEngineToolLoader().load(new_doc)\n",
    "update_sentence_retriever = await SentenceRetrieverToolLoader().load(new_doc)\n",
    "\n",
    "tool = ContrastTool()\n",
    "\n",
    "comments = tool.run(\n",
    "    old_doc,\n",
    "    thesis_qengine.get(),\n",
    "    thesis_sentence_retriever.get(),\n",
    "    new_doc,\n",
    "    update_qengine.get(),\n",
    "    update_sentence_retriever.get(),\n",
    ")\n",
    "\n",
    "for comment in comments:\n",
    "    print(comment)"
   ]
  },
  {
   "cell_type": "code",
   "execution_count": 3,
   "id": "feaf5e38",
   "metadata": {},
   "outputs": [
    {
     "data": {
      "text/plain": [
       "ClaimComment(file_path='C:\\\\Users\\\\info\\\\Desktop\\\\harlus\\\\ml\\\\tools\\\\contrast_tool\\\\data\\\\AMAT Q1 24 results.pdf', text='The official sales guidance for AMAT for Q3 2024 is $6.93 billion, not $6.65 billion. The claim understates the sales guidance by $280 million. The percent error is |($6.65 billion - $6.93 billion) / $6.93 billion| x 100% = 4.0%.', highlight_area=HighlightArea(bounding_boxes=[BoundingBox(left=11.317647048850464, top=86.33916064946338, width=7.168923172296263, height=1.5241834852430556, page=1), BoundingBox(left=23.513070898118364, top=86.33916064946338, width=66.35881311753216, height=1.5241834852430556, page=1), BoundingBox(left=23.513070898118364, top=87.86946306324968, width=7.370730630712571, height=1.5241834852430556, page=1)], jump_to_page=1), links=[LinkComment(file_path='C:\\\\Users\\\\info\\\\Desktop\\\\harlus\\\\ml\\\\tools\\\\contrast_tool\\\\data\\\\AMAT Q3 2024 Earnings Release.pdf', highlight_area=HighlightArea(bounding_boxes=[BoundingBox(left=8.088235294117647, top=8.16133287217882, width=81.32093840954352, height=3.985056250986427, page=3), BoundingBox(left=8.088235294117647, top=12.274971393623737, width=9.687907399694904, height=1.5380859375, page=3)], jump_to_page=3), text=None)], verdict='false')"
      ]
     },
     "execution_count": 3,
     "metadata": {},
     "output_type": "execute_result"
    }
   ],
   "source": [
    "comments[0]"
   ]
  }
 ],
 "metadata": {
  "kernelspec": {
   "display_name": ".venv",
   "language": "python",
   "name": "python3"
  },
  "language_info": {
   "codemirror_mode": {
    "name": "ipython",
    "version": 3
   },
   "file_extension": ".py",
   "mimetype": "text/x-python",
   "name": "python",
   "nbconvert_exporter": "python",
   "pygments_lexer": "ipython3",
   "version": "3.12.10"
  }
 },
 "nbformat": 4,
 "nbformat_minor": 5
}
