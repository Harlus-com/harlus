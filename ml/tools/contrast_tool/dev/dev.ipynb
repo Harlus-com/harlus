{
 "cells": [
  {
   "cell_type": "code",
   "execution_count": 1,
   "id": "75846029",
   "metadata": {},
   "outputs": [],
   "source": [
    "import nest_asyncio\n",
    "nest_asyncio.apply()\n",
    "\n",
    "import dotenv\n",
    "dotenv.load_dotenv()\n",
    "\n",
    "from src.harlus_contrast_tool import (\n",
    "    ContrastTool,\n",
    "    ClaimQueryEngineToolLoader,\n",
    "    VerdictQueryEngineToolLoader,\n",
    "    SentenceRetrieverToolLoader,\n",
    ")"
   ]
  },
  {
   "cell_type": "code",
   "execution_count": null,
   "id": "156b09bd",
   "metadata": {},
   "outputs": [],
   "source": [
    "from src.harlus_contrast_tool.claim_getter import CLAIM_PARSER, PROMPT_GET_CLAIMS_TEXT\n",
    "\n",
    "old_doc = r\"C:\\Users\\info\\Desktop\\harlus\\ml\\tools\\contrast_tool\\data\\report.pdf\"\n",
    "\n",
    "thesis_qengine = await ClaimQueryEngineToolLoader().load(old_doc)\n",
    "thesis_sentence_retriever = await SentenceRetrieverToolLoader().load(old_doc)"
   ]
  },
  {
   "cell_type": "code",
   "execution_count": 1,
   "id": "8d4b0b6f",
   "metadata": {},
   "outputs": [
    {
     "name": "stderr",
     "output_type": "stream",
     "text": [
      "c:\\Users\\info\\Desktop\\harlus\\python\\env\\.venv\\Lib\\site-packages\\tqdm\\auto.py:21: TqdmWarning: IProgress not found. Please update jupyter and ipywidgets. See https://ipywidgets.readthedocs.io/en/stable/user_install.html\n",
      "  from .autonotebook import tqdm as notebook_tqdm\n",
      "c:\\Users\\info\\Desktop\\harlus\\python\\env\\.venv\\Lib\\site-packages\\torch\\utils\\data\\dataloader.py:665: UserWarning: 'pin_memory' argument is set as true but no accelerator is found, then device pinned memory won't be used.\n",
      "  warnings.warn(warn_msg)\n",
      "Parsing nodes: 100%|██████████| 1/1 [00:00<00:00, 999.83it/s]\n",
      "Generating embeddings: 100%|██████████| 7/7 [00:01<00:00,  3.51it/s]\n"
     ]
    }
   ],
   "source": [
    "from llama_index.core import VectorStoreIndex, SimpleDirectoryReader\n",
    "from llama_index.core.node_parser import MarkdownNodeParser\n",
    "from llama_index.llms.openai import OpenAI\n",
    "from llama_index.node_parser.docling import DoclingNodeParser\n",
    "from llama_index.readers.docling import DoclingReader\n",
    "\n",
    "import dotenv\n",
    "dotenv.load_dotenv()\n",
    "\n",
    "old_doc = r\"C:\\Users\\info\\Desktop\\harlus\\ml\\tools\\contrast_tool\\data\\Investment_Case_AMAT.pdf\"\n",
    "\n",
    "reader = DoclingReader()\n",
    "# parser = DoclingNodeParser()\n",
    "parser = MarkdownNodeParser()\n",
    "\n",
    "index = VectorStoreIndex.from_documents(\n",
    "    documents=reader.load_data(old_doc),\n",
    "    transformations=[parser],\n",
    "    show_progress=True,\n",
    ")\n",
    "\n",
    "llm = OpenAI(\n",
    "    model=\"4o-mini\",\n",
    "    temperature=0.0,\n",
    "    max_tokens=1000,\n",
    ")\n",
    "\n",
    "qengine = index.as_query_engine(\n",
    "    llm=llm,\n",
    "    multiple_calls=True,\n",
    ")"
   ]
  },
  {
   "cell_type": "code",
   "execution_count": 4,
   "id": "fe3c6ed6",
   "metadata": {},
   "outputs": [
    {
     "name": "stdout",
     "output_type": "stream",
     "text": [
      "1. AMAT’s dominant position in semiconductor manufacturing equipment offers a competitive edge that should benefit from the ever-increasing complexity and capital intensity of chip production. As chip designs require more advanced processes, the demand for AMAT’s advanced deposition, CMP, etching, and ion implantation tools is expected to drive revenue growth and generate positive returns.\n",
      "\n",
      "2. Streamlined operations at AMAT are expected to fuel margin expansion. The marked reduction in operating expenses relative to sales—from about 28% to 18%—demonstrates the company’s ability to leverage heightened sales with improved cost efficiency. This operational improvement is likely to boost profitability and support the company’s overall return on investment.\n",
      "\n",
      "3. The evolving spending environment in the semiconductor industry, particularly in segments like memory chips, underpins a sustainable growth narrative. With key industry players indicating that current capital expenditure levels are sustainable, AMAT’s market leadership positions it to capture steady demand, thereby supporting long‐term top-line expansion and positive investment outcomes.\n",
      "\n",
      "4. Diversification into the display equipment market provides an additional growth catalyst. With expectations for the market to more than double (from an average of $8 billion to over $18 billion by 2017), AMAT stands to benefit from this market expansion, offering a clear strategic opportunity to enhance revenue streams and overall investor returns.\n"
     ]
    },
    {
     "data": {
      "text/plain": [
       "[(\"## -Valuation:\\n\\n- o G1: 6% &amp; G2: 2%\\n- o kEq: 10%\\n- o Implied growth rate: 1,58%\\n- o Fair value: 62,17 USD - Implying an upside of 20%\\n\\nUnfortunately from a fixed-income point-of-view nothing too spectacular there.\\n\\nOpinion\\n\\nThe main punch line is simple. In terms of importance, one could compare the idea of chips in electronics to brains and senses in humans. The fact that our electronics have  become  more  intelligent  in  the  last  years,  has  everything  to  do  with  the sophistication of the chips behind them.\\n\\nObviously,  that  is  the  basis  of  any  investment  in  Applied  Materials.  Each  year, electronics are becoming faster, more connected and less power-consuming. As a result, more computing, sensing, storage power is required from the chips driving them. More computing power goes hand in hand with more complexity. And finally, more complexity implies more steps in the capital-intensive process of chip making. And that's a trend from which Applied Materials has already benefitted in the last year and a half and will continue to do so, given they are the absolute global market leader in semiconductor manufacturing equipment. On top of that, we reckon that AMAT's display equipment business is a nice bonus over its competitors.\\n\\nThe question remains, why is a company growing its top-line with more than 40% in 2017 valued at a FCF-yield of 6% for that same year? Some say that the current boom cycle AMAT is enjoying won't be sustainable going forward and everything will revert  back  to  normalized  levels.  But  could  it  also  be  that  with  all  new  capital intensive technologies around the corner, industry spending is evolving toward a new normal? AMAT thinks it is. And it's not only AMAT. In the latest earnings call, LAM Research (a competitor of AMAT in etch) said the following: ' LAM Research believes  that  current  spending  levels  in  memory  chips  are  demand-driven  and sustainable. The memory industry capital intensity is on track to remain stable at approximately  20%,  well  below  prior  peaks  of  30%  to  35%'. Although  that statement  only  covers  memory  chips,  it  shows  that  the  current  cycle  is  not characterized by excessive spending sprees by chip manufacturers and that it is most likely sustainable for some years to come.\\n\\nAnd it's not only the bright prospect of the company's end-markets and Applied's positioning in those markets. Through internal reorganizations, the company has developed a solid corporate structure offering potential for operational leverage. To illustrate, operational expenses to sales stood at 28% in 2013. Today, operating costs only represent 18% of sales.\\n\\nWe should be careful with using too much fancy marketing language without really knowing the extent of their economic applications, but in a world where data will probably be the new gold, where cars do not longer need people driving them, where Christmas  gifts  will  be  delivered  on  your  front  step  without  any  sort  of  human interference, we believe AMAT is in a good position.\\n\\nDisclaimer : This research document has been created by Capital at Work Foyer Group for the information/use of its clients. It may not be reproduced or further distributed, in whole or in part, for any purpose, without our prior permission. This research report is not an offer to sell, or a solicitation to buy. No representation has been made as to its accuracy or completeness. All opinions and estimatesherein reflect the judgment of Capital at Work Foyer Group on the date hereof and are subject to change. Further information on the securities referred to herein may be obtained at Capital at Work Foyer Group.\",\n",
       "  {'header_path': '/'}),\n",
       " (\"## capital work\\n\\nWealth Management Group Foyer and 2018. A similar story goes for the display market. Averaging about 8 billion USD between 2013 and 2015, AMAT expects the display equipment market to be worth more than 18 billion USD as of 2017.\\n\\nThe above graph depicts how a chip is made.  Without diving too much into the technical aspects of the manufacturing process, it sort of gives an idea of which steps have to be taken by Intel, TSMC, Samsung and others to come up with a chip. With the complexity of semiconductors nowadays, the above process is repeated up to 60-70 times for one chip, reflecting the capital intensity of the process. Please note that above picture is from 2014. In the meantime, the industry underwent some  consolidation  and  market  shares  have  shifted  somewhat,  but  the  overall picture has remained the same.\\n\\n- -Silicon wafers. The circular slices depicted in the first step of the process are called silicon wafers. These are the basis  of every chip made. The silicon wafer industry is basically a commodity industry with very few differentiating factors between all of the suppliers. With demand currently far bigger than supply, these names are doing good at the moment but the commoditized nature of this industry implies a significant degree of cyclicality.\\n\\nDisclaimer : This research document has been created by Capital at Work Foyer Group for the information/use of its clients. It may not be reproduced or further distributed, in whole or in part, for any purpose, without our prior permission. This research report is not an offer to sell, or a solicitation to buy. No representation has been made as to its accuracy or completeness. All opinions and estimatesherein reflect the judgment of Capital at Work Foyer Group on the date hereof and are subject to change. Further information on the securities referred to herein may be obtained at Capital at Work Foyer Group.\\n\\n- -Deposition. So the basis (or the inner center if you will) of a chip is made of silicon. However,  to  give  a  chip  its  semiconducting  characteristics  a manufacturer  has  to  apply  a  variety  of  materials  during  the  fabrication process. The deposition step implies thin films of material are deposited onto the wafer (as can be seen in the above picture). Some of these materials are created through a chemical reaction (chemical vapor deposition) and some through a physical reaction (physical vapor deposition). Globally, AMAT is the clear leader in providing deposition tools to manufacturers. In chemical deposition,  AMAT  has  strong  market  shares  (50%  -  90%)  in  3  out  of  4 techniques. In physical deposition, AMAT has a 74% market share.\\n- -CMP. After these materials are deposited onto the wafer, the surface of the wafer needs to be flattened again. This process, called planarization, implies polishing the wafer's surface until it is perfectly flat. In terms of equipment for CMP, AMAT is the elephant in the room with a 66% market share.\\n- -Photoresist and Lithography. Photolithography is probably the most important  step  in  creating  or  manufacturing  a  chip.  A  process  which  is dominated by ASML. In a first step, a substance called photoresist is put onto the  wafer.  Please  keep  in  mind  that  your  average  chip's  circuits  and transistors are created on a nano scale. As such, a manufacturer will need ASML's lithography systems to get the blueprint of that circuitry on a surface that's a thousand times smaller than a hair, through exposing the wafer to UV-light.\\n- -Etching. Another very important step in the manufacturing process is called etching.  With  the  necessary  circuitry  exposed  in  the  previous  step,  a chemical process is used to get rid of the materials on the wafer that are no longer needed. Repeating this process numerous times results in carving out the layout needed for the chip.\\n- -Ion implantation and diffusion. Ion implantation is the process of bombarding selected ions in a vacuum chamber onto the surface of a material. Those ions then penetrate the material's surface, making the material stop losing energy, or easily put, making the material electrically charged. Hence, the name semiconductor. AMAT's market for this equipment is 73%.\\n- -Metrology and  wafer inspection. After all the process steps in the manufacturing  process  are  finished,  inspection  tools  check  whether  the manufactured chips are conducting electricity the way they should. In this market,  AMAT  has  market  share  around  15%,  but  the  larger  market  is dominated by U.S. equipment maker KLA-Tencor.\",\n",
       "  {'header_path': '/'})]"
      ]
     },
     "metadata": {},
     "output_type": "display_data"
    }
   ],
   "source": [
    "from src.harlus_contrast_tool.claim_getter import CLAIM_PARSER, PROMPT_GET_CLAIMS_TEXT\n",
    "\n",
    "# prompt = PROMPT_GET_CLAIMS_TEXT\n",
    "prompt = \"\"\"\\\n",
    "What are all distinct investment theses? Each thesis should represent a clear, concise, and reasoned hypothesis about why an investment is expected to generate positive returns. A good thesis typically includes:\n",
    "- A strategic rationale or competitive advantage.\n",
    "- A market or financial performance expectation.\n",
    "- A causal relationship between an observable factor and expected investment return.\n",
    "Do not include vague or generic statements. Only extract well-formed, specific hypotheses.\n",
    "\"\"\"\n",
    "\n",
    "claims = qengine.query(prompt)\n",
    "# parsed_claims = CLAIM_PARSER.parse(claims.response).claims\n",
    "\n",
    "print(claims)\n",
    "display([(n.text, n.metadata) for n in claims.source_nodes])"
   ]
  },
  {
   "cell_type": "code",
   "execution_count": null,
   "id": "8fd2ea9e",
   "metadata": {},
   "outputs": [],
   "source": [
    "new_doc = r\"C:\\Users\\info\\Desktop\\harlus\\ml\\tools\\contrast_tool\\data\\transcript.pdf\"\n",
    "\n",
    "update_qengine = await VerdictQueryEngineToolLoader().load(new_doc)\n",
    "update_sentence_retriever = await SentenceRetrieverToolLoader().load(new_doc)\n",
    "\n",
    "tool = ContrastTool()\n",
    "\n",
    "comments = tool.run(\n",
    "    old_doc,\n",
    "    thesis_qengine,\n",
    "    thesis_sentence_retriever,\n",
    "    new_doc,\n",
    "    update_qengine,\n",
    "    update_sentence_retriever,\n",
    ")\n",
    "\n",
    "for comment in comments:\n",
    "    print(comment)"
   ]
  },
  {
   "cell_type": "code",
   "execution_count": null,
   "id": "feaf5e38",
   "metadata": {},
   "outputs": [],
   "source": [
    "comments[0]"
   ]
  }
 ],
 "metadata": {
  "kernelspec": {
   "display_name": ".venv",
   "language": "python",
   "name": "python3"
  },
  "language_info": {
   "codemirror_mode": {
    "name": "ipython",
    "version": 3
   },
   "file_extension": ".py",
   "mimetype": "text/x-python",
   "name": "python",
   "nbconvert_exporter": "python",
   "pygments_lexer": "ipython3",
   "version": "3.12.10"
  }
 },
 "nbformat": 4,
 "nbformat_minor": 5
}
