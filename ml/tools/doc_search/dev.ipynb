{
 "cells": [
  {
   "cell_type": "code",
   "execution_count": 1,
   "metadata": {},
   "outputs": [],
   "source": [
    "import sys\n",
    "sys.path.append(\"/Users/ronald/Documents/code/harlus/ml/tools/doc_search/src\")\n",
    "\n",
    "import nest_asyncio\n",
    "nest_asyncio.apply()\n",
    "from src.doc_search.loader import *"
   ]
  },
  {
   "cell_type": "code",
   "execution_count": 2,
   "metadata": {},
   "outputs": [
    {
     "name": "stdout",
     "output_type": "stream",
     "text": [
      "Creating nodes for /Users/ronald/Documents/code/equity-ai-navigator/ml/tools/doc_search/source.pdf ...\n",
      " - parsing PDF to JSON...\n",
      "Started parsing the file under job_id 26cb859c-1c89-4aaa-a1da-58dca20ab05f\n",
      " - creating nodes from JSON...\n"
     ]
    },
    {
     "name": "stderr",
     "output_type": "stream",
     "text": [
      "100%|██████████| 39/39 [00:00<00:00, 75035.71it/s]\n"
     ]
    },
    {
     "name": "stdout",
     "output_type": "stream",
     "text": [
      " - adding node relationships...\n",
      " - splitting tables...\n"
     ]
    },
    {
     "name": "stderr",
     "output_type": "stream",
     "text": [
      "  > splitting tables: 100%|██████████| 30/30 [00:00<00:00, 44779.05it/s]\n"
     ]
    },
    {
     "name": "stdout",
     "output_type": "stream",
     "text": [
      " - adding metadata to nodes...\n",
      "  > extracting metadata for SummaryExtractor ...\n"
     ]
    },
    {
     "name": "stderr",
     "output_type": "stream",
     "text": [
      "100%|██████████| 30/30 [00:03<00:00,  8.39it/s]\n"
     ]
    },
    {
     "name": "stdout",
     "output_type": "stream",
     "text": [
      "  > extracting metadata for KeywordExtractor ...\n"
     ]
    },
    {
     "name": "stderr",
     "output_type": "stream",
     "text": [
      "100%|██████████| 30/30 [00:01<00:00, 24.06it/s]\n"
     ]
    },
    {
     "name": "stdout",
     "output_type": "stream",
     "text": [
      " - splitting text nodes...\n"
     ]
    },
    {
     "name": "stderr",
     "output_type": "stream",
     "text": [
      "  > splitting text nodes: 100%|██████████| 120/120 [00:00<00:00, 1989.82it/s]\n"
     ]
    },
    {
     "name": "stdout",
     "output_type": "stream",
     "text": [
      "getting single doc query engine from nodes\n",
      " - building vector index ...\n",
      " - building vector retriever ...\n",
      " - building keyword index ...\n",
      " - building summary index ...\n",
      " - building keyword retriever ...\n",
      " - building mix keyword vector retriever ...\n",
      " - building recursive keyword vector retriever ...\n",
      " - building mix keyword vector retriever query engine ...\n",
      " - building summary index query engine...\n",
      " - extracting metadata from query engines...\n"
     ]
    },
    {
     "name": "stderr",
     "output_type": "stream",
     "text": [
      "Extracting metadata: 100%|██████████| 7/7 [00:35<00:00,  5.10s/it]"
     ]
    },
    {
     "name": "stdout",
     "output_type": "stream",
     "text": [
      " - building mix retriever query engine tool...\n"
     ]
    },
    {
     "name": "stderr",
     "output_type": "stream",
     "text": [
      "\n"
     ]
    }
   ],
   "source": [
    "file_path = \"/Users/ronald/Documents/code/equity-ai-navigator/ml/tools/doc_search/source.pdf\"\n",
    "file_name = \"source.pdf\"\n",
    "\n",
    "dtl = DocToolLoader()\n",
    "tw = await dtl.load(file_path, file_name)"
   ]
  },
  {
   "cell_type": "code",
   "execution_count": 3,
   "metadata": {},
   "outputs": [
    {
     "data": {
      "text/plain": [
       "ToolOutput(content='The company has seen strength in the DRAM market this year, indicating a stable environment for investment. However, the overall memory market has been weak, which may have influenced the decision not to invest heavily in DRAM. Additionally, the business model relies on service agreements that provide stability, suggesting a focus on maintaining existing operations rather than expanding investments in a fluctuating market.', tool_name='source.pdf_mix', raw_input={'input': 'Why did the company not invest in DRAM?'}, raw_output=Response(response='The company has seen strength in the DRAM market this year, indicating a stable environment for investment. However, the overall memory market has been weak, which may have influenced the decision not to invest heavily in DRAM. Additionally, the business model relies on service agreements that provide stability, suggesting a focus on maintaining existing operations rather than expanding investments in a fluctuating market.', source_nodes=[NodeWithScore(node=TextNode(id_='f8e17693-2c16-42cb-b50f-7b080ef3c413', embedding=None, metadata={'page_nb': 4, 'current_headings': '# Cash Flows\\n\\n\\n\\n', 'type': 'text', 'bounding_boxes': [{'x': 133, 'y': 627.04, 'w': 345, 'h': 76}, {'x': 133, 'y': 125.04, 'w': 346, 'h': 578}, {'x': 133, 'y': 125.04, 'w': 346, 'h': 548}, {'x': 133, 'y': 125.04, 'w': 346, 'h': 536}, {'x': 133, 'y': 125.04, 'w': 346, 'h': 548}, {'x': 132, 'y': 125.04, 'w': 347, 'h': 578}, {'x': 132, 'y': 125.04, 'w': 347, 'h': 578}, {'x': 133, 'y': 125.04, 'w': 346, 'h': 548}, {'x': 133, 'y': 125.04, 'w': 346, 'h': 548}, {'x': 133, 'y': 125.04, 'w': 346, 'h': 548}, {'x': 133, 'y': 125.04, 'w': 346, 'h': 548}, {'x': 133, 'y': 125.04, 'w': 346, 'h': 190}], 'section_summary': 'The section discusses the strength in the DRAM market and the stability provided by service agreements in the semiconductor industry. It also mentions the increasing complexity in integrated material solutions and the potential growth in service revenue. The conversation touches on AI driving foundry capital spending and the impact on wafer start expansion. Key entities include Gary Dickerson, Joseph Moore, Brian Chin, and Brice Hill.', 'excerpt_keywords': 'Cash Flows, DRAM market, service agreements, memory utilization, AI-driven wafer start expansion', 'window': ' But we wanted to be careful to point out that in the DRAM market, we have seen strength this year.  And it’s sort of a normal year from an equipment perspective on the DRAM side, even though the memory market itself has been weak.\\n\\n Gary Dickerson: Yeah, Joe, this is Gary.  I think the other thing to add is that part of our business is based on service agreements, and that also helps us have a higher level of stability. ', 'original_text': ' But we wanted to be careful to point out that in the DRAM market, we have seen strength this year. '}, excluded_embed_metadata_keys=['window', 'original_text'], excluded_llm_metadata_keys=['window', 'original_text'], relationships={<NodeRelationship.SOURCE: '1'>: RelatedNodeInfo(node_id='b7280dfa-9a07-4266-930b-13877415ee6c', node_type='1', metadata={'page_nb': 4, 'current_headings': '# Cash Flows\\n\\n\\n\\n', 'type': 'text', 'bounding_boxes': [{'x': 133, 'y': 627.04, 'w': 345, 'h': 76}, {'x': 133, 'y': 125.04, 'w': 346, 'h': 578}, {'x': 133, 'y': 125.04, 'w': 346, 'h': 548}, {'x': 133, 'y': 125.04, 'w': 346, 'h': 536}, {'x': 133, 'y': 125.04, 'w': 346, 'h': 548}, {'x': 132, 'y': 125.04, 'w': 347, 'h': 578}, {'x': 132, 'y': 125.04, 'w': 347, 'h': 578}, {'x': 133, 'y': 125.04, 'w': 346, 'h': 548}, {'x': 133, 'y': 125.04, 'w': 346, 'h': 548}, {'x': 133, 'y': 125.04, 'w': 346, 'h': 548}, {'x': 133, 'y': 125.04, 'w': 346, 'h': 548}, {'x': 133, 'y': 125.04, 'w': 346, 'h': 190}], 'section_summary': 'The section discusses the strength in the DRAM market and the stability provided by service agreements in the semiconductor industry. It also mentions the increasing complexity in integrated material solutions and the potential growth in service revenue. The conversation touches on AI driving foundry capital spending and the impact on wafer start expansion. Key entities include Gary Dickerson, Joseph Moore, Brian Chin, and Brice Hill.', 'excerpt_keywords': 'Cash Flows, DRAM market, service agreements, memory utilization, AI-driven wafer start expansion'}, hash='d2867227311644d3c07fdbfa4a0d94ba74e08abb6083884dea52741966d3477e'), <NodeRelationship.NEXT: '3'>: RelatedNodeInfo(node_id='a8f3e0eb-f3fa-48d9-940b-16f5d88f016a', node_type='1', metadata={'window': ' But we wanted to be careful to point out that in the DRAM market, we have seen strength this year.  And it’s sort of a normal year from an equipment perspective on the DRAM side, even though the memory market itself has been weak.\\n\\n Gary Dickerson: Yeah, Joe, this is Gary.  I think the other thing to add is that part of our business is based on service agreements, and that also helps us have a higher level of stability.  We’re over 60% on the service agreements. ', 'original_text': 'And it’s sort of a normal year from an equipment perspective on the DRAM side, even though the memory market itself has been weak.\\n\\n'}, hash='db35c5996b355c66438c978b446c67b69bcf2059c1a44ad8e9db531d087889db')}, metadata_template='{key}: {value}', metadata_separator='\\n', text=' But we wanted to be careful to point out that in the DRAM market, we have seen strength this year.  And it’s sort of a normal year from an equipment perspective on the DRAM side, even though the memory market itself has been weak.\\n\\n Gary Dickerson: Yeah, Joe, this is Gary.  I think the other thing to add is that part of our business is based on service agreements, and that also helps us have a higher level of stability. ', mimetype='text/plain', start_char_idx=0, end_char_idx=100, metadata_seperator='\\n', text_template='{metadata_str}\\n\\n{content}'), score=9.0), NodeWithScore(node=TextNode(id_='395a598b-db93-411d-b6e9-8550705ab378', embedding=None, metadata={'page_nb': 4, 'current_headings': '# Cash Flows\\n\\n\\n\\n', 'type': 'text', 'bounding_boxes': [{'x': 133, 'y': 627.04, 'w': 345, 'h': 76}, {'x': 133, 'y': 125.04, 'w': 346, 'h': 578}, {'x': 133, 'y': 125.04, 'w': 346, 'h': 548}, {'x': 133, 'y': 125.04, 'w': 346, 'h': 536}, {'x': 133, 'y': 125.04, 'w': 346, 'h': 548}, {'x': 132, 'y': 125.04, 'w': 347, 'h': 578}, {'x': 132, 'y': 125.04, 'w': 347, 'h': 578}, {'x': 133, 'y': 125.04, 'w': 346, 'h': 548}, {'x': 133, 'y': 125.04, 'w': 346, 'h': 548}, {'x': 133, 'y': 125.04, 'w': 346, 'h': 548}, {'x': 133, 'y': 125.04, 'w': 346, 'h': 548}, {'x': 133, 'y': 125.04, 'w': 346, 'h': 190}], 'section_summary': \"The section discusses the strong performance of the DRAM market in Q4, with Applied adding 10 points of overall DRAM wafer fab equipment share in the last 10 years. The drivers for this share gain include advancements in periphery, high-speed I/O, logic technologies, capacitor scaling, patterning share gains, and advanced packaging. The discussion also touches on the strength of DRAM in Q3 and the expectation of larger shipments to Chinese customers in Q4. The conversation highlights Applied's position in the DRAM market and its sustained growth in the industry.\", 'excerpt_keywords': 'Cash Flows, DRAM, equipment, market, share', 'window': 'Q4 would be larger.\\n\\n Stacy Rasgon: Got it.  Thank you so much.  Michael Sullivan: Thanks, Stacy.  Operator: Thank you.  Our next question comes from the line of C.J.  Muse of Evercore ISI.\\n\\n', 'original_text': 'Michael Sullivan: Thanks, Stacy. '}, excluded_embed_metadata_keys=['window', 'original_text'], excluded_llm_metadata_keys=['window', 'original_text'], relationships={<NodeRelationship.SOURCE: '1'>: RelatedNodeInfo(node_id='e56791ae-de24-4398-bfc8-1ed306a644c9', node_type='1', metadata={'page_nb': 4, 'current_headings': '# Cash Flows\\n\\n\\n\\n', 'type': 'text', 'bounding_boxes': [{'x': 133, 'y': 627.04, 'w': 345, 'h': 76}, {'x': 133, 'y': 125.04, 'w': 346, 'h': 578}, {'x': 133, 'y': 125.04, 'w': 346, 'h': 548}, {'x': 133, 'y': 125.04, 'w': 346, 'h': 536}, {'x': 133, 'y': 125.04, 'w': 346, 'h': 548}, {'x': 132, 'y': 125.04, 'w': 347, 'h': 578}, {'x': 132, 'y': 125.04, 'w': 347, 'h': 578}, {'x': 133, 'y': 125.04, 'w': 346, 'h': 548}, {'x': 133, 'y': 125.04, 'w': 346, 'h': 548}, {'x': 133, 'y': 125.04, 'w': 346, 'h': 548}, {'x': 133, 'y': 125.04, 'w': 346, 'h': 548}, {'x': 133, 'y': 125.04, 'w': 346, 'h': 190}], 'section_summary': \"The section discusses the strong performance of the DRAM market in Q4, with Applied adding 10 points of overall DRAM wafer fab equipment share in the last 10 years. The drivers for this share gain include advancements in periphery, high-speed I/O, logic technologies, capacitor scaling, patterning share gains, and advanced packaging. The discussion also touches on the strength of DRAM in Q3 and the expectation of larger shipments to Chinese customers in Q4. The conversation highlights Applied's position in the DRAM market and its sustained growth in the industry.\", 'excerpt_keywords': 'Cash Flows, DRAM, equipment, market, share'}, hash='6f8f10d48ffd38fa4189f0080cebe714f4fa4e14538ba6e3e05c64839e6e898a'), <NodeRelationship.PREVIOUS: '2'>: RelatedNodeInfo(node_id='0002655f-42b8-4cc6-bda0-f99f51783793', node_type='1', metadata={'page_nb': 4, 'current_headings': '# Cash Flows\\n\\n\\n\\n', 'type': 'text', 'bounding_boxes': [{'x': 133, 'y': 627.04, 'w': 345, 'h': 76}, {'x': 133, 'y': 125.04, 'w': 346, 'h': 578}, {'x': 133, 'y': 125.04, 'w': 346, 'h': 548}, {'x': 133, 'y': 125.04, 'w': 346, 'h': 536}, {'x': 133, 'y': 125.04, 'w': 346, 'h': 548}, {'x': 132, 'y': 125.04, 'w': 347, 'h': 578}, {'x': 132, 'y': 125.04, 'w': 347, 'h': 578}, {'x': 133, 'y': 125.04, 'w': 346, 'h': 548}, {'x': 133, 'y': 125.04, 'w': 346, 'h': 548}, {'x': 133, 'y': 125.04, 'w': 346, 'h': 548}, {'x': 133, 'y': 125.04, 'w': 346, 'h': 548}, {'x': 133, 'y': 125.04, 'w': 346, 'h': 190}], 'section_summary': \"The section discusses the strong performance of the DRAM market in Q4, with Applied adding 10 points of overall DRAM wafer fab equipment share in the last 10 years. The drivers for this share gain include advancements in periphery, high-speed I/O, logic technologies, capacitor scaling, patterning share gains, and advanced packaging. The discussion also touches on the strength of DRAM in Q3 and the expectation of larger shipments to Chinese customers in Q4. The conversation highlights Applied's position in the DRAM market and its sustained growth in the industry.\", 'excerpt_keywords': 'Cash Flows, DRAM, equipment, market, share', 'window': 'Brice Hill: In Q3, there was a small amount of shipments to Chinese customers, so relatively small.  Q4 would be larger.\\n\\n Stacy Rasgon: Got it.  Thank you so much.  Michael Sullivan: Thanks, Stacy.  Operator: Thank you.  Our next question comes from the line of C.J. ', 'original_text': 'Thank you so much. '}, hash='36f6509f231e108142292eeee29854a8bd5f77dbc154fb23de52e6ee2ab2d105'), <NodeRelationship.NEXT: '3'>: RelatedNodeInfo(node_id='da516c25-b915-434b-81c6-72316e8930b1', node_type='1', metadata={'window': 'Stacy Rasgon: Got it.  Thank you so much.  Michael Sullivan: Thanks, Stacy.  Operator: Thank you.  Our next question comes from the line of C.J.  Muse of Evercore ISI.\\n\\n C.J. ', 'original_text': 'Operator: Thank you. '}, hash='07c7793934de6b49722acabb031d71bd5975db776de43376257642f163e7fad2')}, metadata_template='{key}: {value}', metadata_separator='\\n', text='Q4 would be larger.\\n\\n Stacy Rasgon: Got it.  Thank you so much.  Michael Sullivan: Thanks, Stacy.  Operator: Thank you.  Our next question comes from the line of C.J.  Muse of Evercore ISI.\\n\\n', mimetype='text/plain', start_char_idx=1548, end_char_idx=1581, metadata_seperator='\\n', text_template='{metadata_str}\\n\\n{content}'), score=7.0), NodeWithScore(node=TextNode(id_='95d0d621-e314-4418-a4dd-9d9daa6045bb', embedding=None, metadata={'page_nb': 4, 'current_headings': '# Cash Flows\\n\\n\\n\\n', 'type': 'text', 'bounding_boxes': [{'x': 133, 'y': 627.04, 'w': 345, 'h': 76}, {'x': 133, 'y': 125.04, 'w': 346, 'h': 578}, {'x': 133, 'y': 125.04, 'w': 346, 'h': 548}, {'x': 133, 'y': 125.04, 'w': 346, 'h': 536}, {'x': 133, 'y': 125.04, 'w': 346, 'h': 548}, {'x': 132, 'y': 125.04, 'w': 347, 'h': 578}, {'x': 132, 'y': 125.04, 'w': 347, 'h': 578}, {'x': 133, 'y': 125.04, 'w': 346, 'h': 548}, {'x': 133, 'y': 125.04, 'w': 346, 'h': 548}, {'x': 133, 'y': 125.04, 'w': 346, 'h': 548}, {'x': 133, 'y': 125.04, 'w': 346, 'h': 548}, {'x': 133, 'y': 125.04, 'w': 346, 'h': 190}], 'section_summary': \"The section discusses the strong performance of the DRAM market in Q4, with Applied adding 10 points of overall DRAM wafer fab equipment share in the last 10 years. The drivers for this share gain include advancements in periphery, high-speed I/O, logic technologies, capacitor scaling, patterning share gains, and advanced packaging. The discussion also touches on the strength of DRAM in Q3 and the expectation of larger shipments to Chinese customers in Q4. The conversation highlights Applied's position in the DRAM market and its sustained growth in the industry.\", 'excerpt_keywords': 'Cash Flows, DRAM, equipment, market, share', 'window': 'So DRAM, we’ve added about 10 points of overall DRAM wafer fab equipment share in the last 10 years.  So, if you look at the big inflections in DRAM, the periphery moving to high speed I/O for high-bandwidth memory, we’re taking logic technologies into DRAM.  That’s a really big driver for our share gains.  Capacitor scaling is an area where we have strength, patterning share gains, advanced packaging, especially high-bandwidth memory.  So, all of those areas are really big drivers for Applied and have contributed to this 10% overall WFE share gain in DRAM over the last 10 years.  And then, you have another question, Stacy?\\n\\n Brice Hill: Yes, I think I got it. ', 'original_text': 'Capacitor scaling is an area where we have strength, patterning share gains, advanced packaging, especially high-bandwidth memory. '}, excluded_embed_metadata_keys=['window', 'original_text'], excluded_llm_metadata_keys=['window', 'original_text'], relationships={<NodeRelationship.SOURCE: '1'>: RelatedNodeInfo(node_id='e56791ae-de24-4398-bfc8-1ed306a644c9', node_type='1', metadata={'page_nb': 4, 'current_headings': '# Cash Flows\\n\\n\\n\\n', 'type': 'text', 'bounding_boxes': [{'x': 133, 'y': 627.04, 'w': 345, 'h': 76}, {'x': 133, 'y': 125.04, 'w': 346, 'h': 578}, {'x': 133, 'y': 125.04, 'w': 346, 'h': 548}, {'x': 133, 'y': 125.04, 'w': 346, 'h': 536}, {'x': 133, 'y': 125.04, 'w': 346, 'h': 548}, {'x': 132, 'y': 125.04, 'w': 347, 'h': 578}, {'x': 132, 'y': 125.04, 'w': 347, 'h': 578}, {'x': 133, 'y': 125.04, 'w': 346, 'h': 548}, {'x': 133, 'y': 125.04, 'w': 346, 'h': 548}, {'x': 133, 'y': 125.04, 'w': 346, 'h': 548}, {'x': 133, 'y': 125.04, 'w': 346, 'h': 548}, {'x': 133, 'y': 125.04, 'w': 346, 'h': 190}], 'section_summary': \"The section discusses the strong performance of the DRAM market in Q4, with Applied adding 10 points of overall DRAM wafer fab equipment share in the last 10 years. The drivers for this share gain include advancements in periphery, high-speed I/O, logic technologies, capacitor scaling, patterning share gains, and advanced packaging. The discussion also touches on the strength of DRAM in Q3 and the expectation of larger shipments to Chinese customers in Q4. The conversation highlights Applied's position in the DRAM market and its sustained growth in the industry.\", 'excerpt_keywords': 'Cash Flows, DRAM, equipment, market, share'}, hash='6f8f10d48ffd38fa4189f0080cebe714f4fa4e14538ba6e3e05c64839e6e898a'), <NodeRelationship.PREVIOUS: '2'>: RelatedNodeInfo(node_id='c41ece2c-5c7e-4cb7-8440-6794f7b58adb', node_type='1', metadata={'page_nb': 4, 'current_headings': '# Cash Flows\\n\\n\\n\\n', 'type': 'text', 'bounding_boxes': [{'x': 133, 'y': 627.04, 'w': 345, 'h': 76}, {'x': 133, 'y': 125.04, 'w': 346, 'h': 578}, {'x': 133, 'y': 125.04, 'w': 346, 'h': 548}, {'x': 133, 'y': 125.04, 'w': 346, 'h': 536}, {'x': 133, 'y': 125.04, 'w': 346, 'h': 548}, {'x': 132, 'y': 125.04, 'w': 347, 'h': 578}, {'x': 132, 'y': 125.04, 'w': 347, 'h': 578}, {'x': 133, 'y': 125.04, 'w': 346, 'h': 548}, {'x': 133, 'y': 125.04, 'w': 346, 'h': 548}, {'x': 133, 'y': 125.04, 'w': 346, 'h': 548}, {'x': 133, 'y': 125.04, 'w': 346, 'h': 548}, {'x': 133, 'y': 125.04, 'w': 346, 'h': 190}], 'section_summary': \"The section discusses the strong performance of the DRAM market in Q4, with Applied adding 10 points of overall DRAM wafer fab equipment share in the last 10 years. The drivers for this share gain include advancements in periphery, high-speed I/O, logic technologies, capacitor scaling, patterning share gains, and advanced packaging. The discussion also touches on the strength of DRAM in Q3 and the expectation of larger shipments to Chinese customers in Q4. The conversation highlights Applied's position in the DRAM market and its sustained growth in the industry.\", 'excerpt_keywords': 'Cash Flows, DRAM, equipment, market, share', 'window': 'Gary Dickerson: Yes, maybe just, let me add some color and then you can ask the follow-on question.  So DRAM, we’ve added about 10 points of overall DRAM wafer fab equipment share in the last 10 years.  So, if you look at the big inflections in DRAM, the periphery moving to high speed I/O for high-bandwidth memory, we’re taking logic technologies into DRAM.  That’s a really big driver for our share gains.  Capacitor scaling is an area where we have strength, patterning share gains, advanced packaging, especially high-bandwidth memory.  So, all of those areas are really big drivers for Applied and have contributed to this 10% overall WFE share gain in DRAM over the last 10 years.  And then, you have another question, Stacy?\\n\\n', 'original_text': 'That’s a really big driver for our share gains. '}, hash='7903ac00d110be4ee69e3a418ac03ee3883d31247abafc3c28865b2f41c1fab4'), <NodeRelationship.NEXT: '3'>: RelatedNodeInfo(node_id='688790b1-9092-4863-b471-1822ae234d44', node_type='1', metadata={'window': 'So, if you look at the big inflections in DRAM, the periphery moving to high speed I/O for high-bandwidth memory, we’re taking logic technologies into DRAM.  That’s a really big driver for our share gains.  Capacitor scaling is an area where we have strength, patterning share gains, advanced packaging, especially high-bandwidth memory.  So, all of those areas are really big drivers for Applied and have contributed to this 10% overall WFE share gain in DRAM over the last 10 years.  And then, you have another question, Stacy?\\n\\n Brice Hill: Yes, I think I got it.  Stacy -- yeah. ', 'original_text': 'So, all of those areas are really big drivers for Applied and have contributed to this 10% overall WFE share gain in DRAM over the last 10 years. '}, hash='3f2a5b61645f9de12f64c6ed1fc72c3099cebe4a79f3448014ae292ab687d8d1')}, metadata_template='{key}: {value}', metadata_separator='\\n', text='So DRAM, we’ve added about 10 points of overall DRAM wafer fab equipment share in the last 10 years.  So, if you look at the big inflections in DRAM, the periphery moving to high speed I/O for high-bandwidth memory, we’re taking logic technologies into DRAM.  That’s a really big driver for our share gains.  Capacitor scaling is an area where we have strength, patterning share gains, advanced packaging, especially high-bandwidth memory.  So, all of those areas are really big drivers for Applied and have contributed to this 10% overall WFE share gain in DRAM over the last 10 years.  And then, you have another question, Stacy?\\n\\n Brice Hill: Yes, I think I got it. ', mimetype='text/plain', start_char_idx=888, end_char_idx=1019, metadata_seperator='\\n', text_template='{metadata_str}\\n\\n{content}'), score=6.0)], metadata={'f8e17693-2c16-42cb-b50f-7b080ef3c413': {'page_nb': 4, 'current_headings': '# Cash Flows\\n\\n\\n\\n', 'type': 'text', 'bounding_boxes': [{'x': 133, 'y': 627.04, 'w': 345, 'h': 76}, {'x': 133, 'y': 125.04, 'w': 346, 'h': 578}, {'x': 133, 'y': 125.04, 'w': 346, 'h': 548}, {'x': 133, 'y': 125.04, 'w': 346, 'h': 536}, {'x': 133, 'y': 125.04, 'w': 346, 'h': 548}, {'x': 132, 'y': 125.04, 'w': 347, 'h': 578}, {'x': 132, 'y': 125.04, 'w': 347, 'h': 578}, {'x': 133, 'y': 125.04, 'w': 346, 'h': 548}, {'x': 133, 'y': 125.04, 'w': 346, 'h': 548}, {'x': 133, 'y': 125.04, 'w': 346, 'h': 548}, {'x': 133, 'y': 125.04, 'w': 346, 'h': 548}, {'x': 133, 'y': 125.04, 'w': 346, 'h': 190}], 'section_summary': 'The section discusses the strength in the DRAM market and the stability provided by service agreements in the semiconductor industry. It also mentions the increasing complexity in integrated material solutions and the potential growth in service revenue. The conversation touches on AI driving foundry capital spending and the impact on wafer start expansion. Key entities include Gary Dickerson, Joseph Moore, Brian Chin, and Brice Hill.', 'excerpt_keywords': 'Cash Flows, DRAM market, service agreements, memory utilization, AI-driven wafer start expansion', 'window': ' But we wanted to be careful to point out that in the DRAM market, we have seen strength this year.  And it’s sort of a normal year from an equipment perspective on the DRAM side, even though the memory market itself has been weak.\\n\\n Gary Dickerson: Yeah, Joe, this is Gary.  I think the other thing to add is that part of our business is based on service agreements, and that also helps us have a higher level of stability. ', 'original_text': ' But we wanted to be careful to point out that in the DRAM market, we have seen strength this year. '}, '395a598b-db93-411d-b6e9-8550705ab378': {'page_nb': 4, 'current_headings': '# Cash Flows\\n\\n\\n\\n', 'type': 'text', 'bounding_boxes': [{'x': 133, 'y': 627.04, 'w': 345, 'h': 76}, {'x': 133, 'y': 125.04, 'w': 346, 'h': 578}, {'x': 133, 'y': 125.04, 'w': 346, 'h': 548}, {'x': 133, 'y': 125.04, 'w': 346, 'h': 536}, {'x': 133, 'y': 125.04, 'w': 346, 'h': 548}, {'x': 132, 'y': 125.04, 'w': 347, 'h': 578}, {'x': 132, 'y': 125.04, 'w': 347, 'h': 578}, {'x': 133, 'y': 125.04, 'w': 346, 'h': 548}, {'x': 133, 'y': 125.04, 'w': 346, 'h': 548}, {'x': 133, 'y': 125.04, 'w': 346, 'h': 548}, {'x': 133, 'y': 125.04, 'w': 346, 'h': 548}, {'x': 133, 'y': 125.04, 'w': 346, 'h': 190}], 'section_summary': \"The section discusses the strong performance of the DRAM market in Q4, with Applied adding 10 points of overall DRAM wafer fab equipment share in the last 10 years. The drivers for this share gain include advancements in periphery, high-speed I/O, logic technologies, capacitor scaling, patterning share gains, and advanced packaging. The discussion also touches on the strength of DRAM in Q3 and the expectation of larger shipments to Chinese customers in Q4. The conversation highlights Applied's position in the DRAM market and its sustained growth in the industry.\", 'excerpt_keywords': 'Cash Flows, DRAM, equipment, market, share', 'window': 'Q4 would be larger.\\n\\n Stacy Rasgon: Got it.  Thank you so much.  Michael Sullivan: Thanks, Stacy.  Operator: Thank you.  Our next question comes from the line of C.J.  Muse of Evercore ISI.\\n\\n', 'original_text': 'Michael Sullivan: Thanks, Stacy. '}, '95d0d621-e314-4418-a4dd-9d9daa6045bb': {'page_nb': 4, 'current_headings': '# Cash Flows\\n\\n\\n\\n', 'type': 'text', 'bounding_boxes': [{'x': 133, 'y': 627.04, 'w': 345, 'h': 76}, {'x': 133, 'y': 125.04, 'w': 346, 'h': 578}, {'x': 133, 'y': 125.04, 'w': 346, 'h': 548}, {'x': 133, 'y': 125.04, 'w': 346, 'h': 536}, {'x': 133, 'y': 125.04, 'w': 346, 'h': 548}, {'x': 132, 'y': 125.04, 'w': 347, 'h': 578}, {'x': 132, 'y': 125.04, 'w': 347, 'h': 578}, {'x': 133, 'y': 125.04, 'w': 346, 'h': 548}, {'x': 133, 'y': 125.04, 'w': 346, 'h': 548}, {'x': 133, 'y': 125.04, 'w': 346, 'h': 548}, {'x': 133, 'y': 125.04, 'w': 346, 'h': 548}, {'x': 133, 'y': 125.04, 'w': 346, 'h': 190}], 'section_summary': \"The section discusses the strong performance of the DRAM market in Q4, with Applied adding 10 points of overall DRAM wafer fab equipment share in the last 10 years. The drivers for this share gain include advancements in periphery, high-speed I/O, logic technologies, capacitor scaling, patterning share gains, and advanced packaging. The discussion also touches on the strength of DRAM in Q3 and the expectation of larger shipments to Chinese customers in Q4. The conversation highlights Applied's position in the DRAM market and its sustained growth in the industry.\", 'excerpt_keywords': 'Cash Flows, DRAM, equipment, market, share', 'window': 'So DRAM, we’ve added about 10 points of overall DRAM wafer fab equipment share in the last 10 years.  So, if you look at the big inflections in DRAM, the periphery moving to high speed I/O for high-bandwidth memory, we’re taking logic technologies into DRAM.  That’s a really big driver for our share gains.  Capacitor scaling is an area where we have strength, patterning share gains, advanced packaging, especially high-bandwidth memory.  So, all of those areas are really big drivers for Applied and have contributed to this 10% overall WFE share gain in DRAM over the last 10 years.  And then, you have another question, Stacy?\\n\\n Brice Hill: Yes, I think I got it. ', 'original_text': 'Capacitor scaling is an area where we have strength, patterning share gains, advanced packaging, especially high-bandwidth memory. '}}), is_error=False)"
      ]
     },
     "execution_count": 3,
     "metadata": {},
     "output_type": "execute_result"
    }
   ],
   "source": [
    "tool = tw.get()\n",
    "tool.call(\"Why did the company not invest in DRAM?\")"
   ]
  },
  {
   "cell_type": "code",
   "execution_count": 4,
   "metadata": {},
   "outputs": [
    {
     "data": {
      "text/plain": [
       "ToolMetadata(description=\"Use this tool to answer specific questions about the document.\\n\\n                This document has the following metadata:\\n                summary: The document outlines the Applied Materials Earnings Conference Call for Q3 2023, emphasizing the company's robust performance fueled by advancements in semiconductor systems and services. It highlights the influence of IoT and AI on semiconductor innovation and market demand, while underscoring the significance of materials engineering and technologies such as Gate-All-Around. The call reviews financial results, operational enhancements, and future projections, suggesting a positive outlook for sustained growth and increased shareholder returns.\\ndate: The date of the document is not provided in the information available.\\nticker: The document does not provide the ticker of the stock discussed.\\nkeywords: The keywords in this document are: Applied Materials, Earnings, Conference Call, IoT, AI.\\nsource_name: earning_call\\ntitle: The title of the document is not explicitly provided in the information available.\\ncompany_name: The name of the company discussed in the document is not explicitly mentioned.\\n\\n                And the following summary:\\n                The document outlines the Applied Materials Earnings Conference Call for Q3 2023, emphasizing the company's robust performance fueled by advancements in semiconductor systems and services. It highlights the influence of IoT and AI on semiconductor innovation and market demand, while underscoring the significance of materials engineering and technologies such as Gate-All-Around. The call reviews financial results, operational enhancements, and future projections, suggesting a positive outlook for sustained growth and increased shareholder returns.\\n                \", name='source.pdf_mix', fn_schema=<class 'llama_index.core.tools.types.DefaultToolFnSchema'>, return_direct=False)"
      ]
     },
     "execution_count": 4,
     "metadata": {},
     "output_type": "execute_result"
    }
   ],
   "source": [
    "tool.metadata"
   ]
  },
  {
   "cell_type": "code",
   "execution_count": 2,
   "metadata": {},
   "outputs": [
    {
     "name": "stdout",
     "output_type": "stream",
     "text": [
      "Creating nodes for /Users/ronald/Documents/code/equity-ai-navigator/ml/tools/doc_search/artifacts/test.pdf ...\n",
      " - parsing PDF to JSON...\n",
      "Started parsing the file under job_id 5180de0e-01ed-429f-8932-2c5b57634a57\n",
      " - creating nodes from JSON...\n"
     ]
    },
    {
     "name": "stderr",
     "output_type": "stream",
     "text": [
      "100%|██████████| 68/68 [00:00<00:00, 61921.99it/s]\n"
     ]
    },
    {
     "name": "stdout",
     "output_type": "stream",
     "text": [
      " - adding node relationships...\n",
      " - splitting tables...\n"
     ]
    },
    {
     "name": "stderr",
     "output_type": "stream",
     "text": [
      "  > splitting tables:   0%|          | 0/36 [00:00<?, ?it/s]\n",
      "\u001b[A\n",
      "\n",
      "1it [00:00, 453.88it/s]\n",
      "1it [00:00, 274.05it/s]\n",
      "1it [00:00, 363.65it/s]\n",
      "  > splitting tables: 100%|██████████| 36/36 [00:02<00:00, 14.74it/s]\n"
     ]
    },
    {
     "name": "stdout",
     "output_type": "stream",
     "text": [
      " - adding metadata to nodes...\n",
      "  > extracting metadata for SummaryExtractor ...\n"
     ]
    },
    {
     "name": "stderr",
     "output_type": "stream",
     "text": [
      "100%|██████████| 37/37 [00:03<00:00, 10.53it/s]\n"
     ]
    },
    {
     "name": "stdout",
     "output_type": "stream",
     "text": [
      "  > extracting metadata for KeywordExtractor ...\n"
     ]
    },
    {
     "name": "stderr",
     "output_type": "stream",
     "text": [
      "100%|██████████| 37/37 [00:01<00:00, 26.56it/s]\n"
     ]
    },
    {
     "name": "stdout",
     "output_type": "stream",
     "text": [
      " - splitting text nodes...\n"
     ]
    },
    {
     "name": "stderr",
     "output_type": "stream",
     "text": [
      "  > splitting text nodes: 100%|██████████| 148/148 [00:00<00:00, 5069.72it/s]\n"
     ]
    },
    {
     "name": "stdout",
     "output_type": "stream",
     "text": [
      "getting single doc query engine from nodes\n",
      " - building vector index ...\n",
      " - building vector retriever ...\n",
      " - building keyword index ...\n",
      " - building summary index ...\n",
      " - building keyword retriever ...\n",
      " - building mix keyword vector retriever ...\n",
      " - building recursive keyword vector retriever ...\n",
      " - building mix keyword vector retriever query engine ...\n",
      " - building summary index query engine...\n",
      " - extracting metadata from query engines...\n"
     ]
    },
    {
     "name": "stderr",
     "output_type": "stream",
     "text": [
      "Extracting metadata:   0%|          | 0/7 [00:00<?, ?it/s]"
     ]
    },
    {
     "name": "stdout",
     "output_type": "stream",
     "text": [
      "\u001b[1;3;34mRetrieving with query id None: What are the keywords in this document?\n",
      "\u001b[0m\u001b[1;3;38;5;200mRetrieved node with id, entering: 78fe3e1b-9912-4dc7-bb6e-58b2dd6ee0f0\n",
      "\u001b[0m\u001b[1;3;34mRetrieving with query id 78fe3e1b-9912-4dc7-bb6e-58b2dd6ee0f0: What are the keywords in this document?\n",
      "\u001b[0m\u001b[1;3;38;5;200mRetrieved node with id, entering: 4df6d34d-acc7-48a8-b0e9-49010c368bdb\n",
      "\u001b[0m\u001b[1;3;34mRetrieving with query id 4df6d34d-acc7-48a8-b0e9-49010c368bdb: What are the keywords in this document?\n",
      "\u001b[0m\u001b[1;3;38;5;200mRetrieving text node: Table listing the different items and corresponding page numbers in a document.,\n",
      "with the following columns:\n",
      "- Part I: None\n",
      "- Page: None\n",
      "\n",
      "|Part I|Page|\n",
      "|---|---|\n",
      "|Item 1A. Risk Factors|5|\n",
      "|Item 1B. Unresolved Staff Comments|17|\n",
      "|Item 1C. Cybersecurity|17|\n",
      "|Item 2. Properties|18|\n",
      "|Item 3. Legal Proceedings|18|\n",
      "|Item 4. Mine Safety Disclosures|18|\n",
      "|Part II| |\n",
      "|Item 5. Market for Registrant’s Common Equity, Related Stockholder Matters and Issuer Purchases of Equity Securities|19|\n",
      "|Item 6. [Reserved]|20|\n",
      "|Item 7. Management’s Discussion and Analysis of Financial Condition and Results of Operations|21|\n",
      "|Item 7A. Quantitative and Qualitative Disclosures About Market Risk|27|\n",
      "|Item 8. Financial Statements and Supplementary Data|28|\n",
      "|Item 9. Changes in and Disagreements with Accountants on Accounting and Financial Disclosure|51|\n",
      "|Item 9A. Controls and Procedures|51|\n",
      "|Item 9B. Other Information|52|\n",
      "|Item 9C. Disclosure Regarding Foreign Jurisdictions that Prevent Inspections|52|\n",
      "|Part III| |\n",
      "|Item 10. Directors, Executive Officers and Corporate Governance|52|\n",
      "|Item 11. Executive Compensation|52|\n",
      "|Item 12. Security Ownership of Certain Beneficial Owners and Management and Related Stockholder Matters|52|\n",
      "|Item 13. Certain Relationships and Related Transactions, and Director Independence|52|\n",
      "|Item 14. Principal Accountant Fees and Services|52|\n",
      "|Part IV| |\n",
      "|Item 15. Exhibit and Financial Statement Schedules|53|\n",
      "|Item 16. Form 10-K Summary|56|\n",
      "\n",
      "\u001b[0m\u001b[1;3;38;5;200mRetrieved node with id, entering: 8927a76d-74fb-4749-a6b7-6997e74d56c3\n",
      "\u001b[0m\u001b[1;3;34mRetrieving with query id 8927a76d-74fb-4749-a6b7-6997e74d56c3: What are the keywords in this document?\n",
      "\u001b[0m\u001b[1;3;38;5;200mRetrieved node with id, entering: e411bf5b-85ea-441a-b555-3eed69c93afb\n",
      "\u001b[0m\u001b[1;3;34mRetrieving with query id e411bf5b-85ea-441a-b555-3eed69c93afb: What are the keywords in this document?\n",
      "\u001b[0m\u001b[1;3;38;5;200mRetrieved node with id, entering: 1740821d-2d11-48d1-9e75-f47b2feafe74\n",
      "\u001b[0m\u001b[1;3;34mRetrieving with query id 1740821d-2d11-48d1-9e75-f47b2feafe74: What are the keywords in this document?\n",
      "\u001b[0m\u001b[1;3;38;2;11;159;203mRetrieval entering 551fcc22-56c4-4dc9-b138-f2070390fde1: TextNode\n",
      "\u001b[0m\u001b[1;3;34mRetrieving with query id None: What is the title of this document?\n",
      "\u001b[0m\u001b[1;3;38;5;200mRetrieving text node: Commission File Number: 001-36743\n",
      "\u001b[0m\u001b[1;3;38;5;200mRetrieving text node: (Mark One)\n",
      "\n",
      "☒ ANNUAL REPORT PURSUANT TO SECTION 13 OR 15(d) OF THE SECURITIES EXCHANGE ACT OF 1934\n",
      "\n",
      "For the fiscal year ended September 28, 2024\n",
      "\n",
      "or\n",
      "\n",
      "☐ TRANSITION REPORT PURSUANT TO SECTION 13 OR 15(d) OF THE SECURITIES EXCHANGE ACT OF 1934\n",
      "\n",
      "For the transition period from          to         .\n",
      "\n",
      "\n",
      "\u001b[0m\u001b[1;3;38;5;200mRetrieving text node: Table listing the different items and corresponding page numbers in a document.,\n",
      "with the following columns:\n",
      "- Part I: None\n",
      "- Page: None\n",
      "\n",
      "|Part I|Page|\n",
      "|---|---|\n",
      "|Item 1A. Risk Factors|5|\n",
      "|Item 1B. Unresolved Staff Comments|17|\n",
      "|Item 1C. Cybersecurity|17|\n",
      "|Item 2. Properties|18|\n",
      "|Item 3. Legal Proceedings|18|\n",
      "|Item 4. Mine Safety Disclosures|18|\n",
      "|Part II| |\n",
      "|Item 5. Market for Registrant’s Common Equity, Related Stockholder Matters and Issuer Purchases of Equity Securities|19|\n",
      "|Item 6. [Reserved]|20|\n",
      "|Item 7. Management’s Discussion and Analysis of Financial Condition and Results of Operations|21|\n",
      "|Item 7A. Quantitative and Qualitative Disclosures About Market Risk|27|\n",
      "|Item 8. Financial Statements and Supplementary Data|28|\n",
      "|Item 9. Changes in and Disagreements with Accountants on Accounting and Financial Disclosure|51|\n",
      "|Item 9A. Controls and Procedures|51|\n",
      "|Item 9B. Other Information|52|\n",
      "|Item 9C. Disclosure Regarding Foreign Jurisdictions that Prevent Inspections|52|\n",
      "|Part III| |\n",
      "|Item 10. Directors, Executive Officers and Corporate Governance|52|\n",
      "|Item 11. Executive Compensation|52|\n",
      "|Item 12. Security Ownership of Certain Beneficial Owners and Management and Related Stockholder Matters|52|\n",
      "|Item 13. Certain Relationships and Related Transactions, and Director Independence|52|\n",
      "|Item 14. Principal Accountant Fees and Services|52|\n",
      "|Part IV| |\n",
      "|Item 15. Exhibit and Financial Statement Schedules|53|\n",
      "|Item 16. Form 10-K Summary|56|\n",
      "\n",
      "\u001b[0m\u001b[1;3;38;5;200mRetrieving text node: (Mark One)\n",
      "\n",
      "☒ ANNUAL REPORT PURSUANT TO SECTION 13 OR 15(d) OF THE SECURITIES EXCHANGE ACT OF 1934\n",
      "\n",
      "For the fiscal year ended September 28, 2024\n",
      "\n",
      "or\n",
      "\n",
      "☐ TRANSITION REPORT PURSUANT TO SECTION 13 OR 15(d) OF THE SECURITIES EXCHANGE ACT OF 1934\n",
      "\n",
      "For the transition period from          to         .\n",
      "\n",
      "Commission File Number: 001-36743\n",
      "\u001b[0m\u001b[1;3;38;5;200mRetrieving text node: Table showing the different types of securities issued by a company, their corresponding trading symbols, and the exchange on which they are registered.,\n",
      "with the following table title:\n",
      "Securities Issued by the Company,\n",
      "with the following columns:\n",
      "- Title of each class: None\n",
      "- Trading symbol(s): None\n",
      "- Name of each exchange on which registered: None\n",
      "\n",
      "|Title of each class|Trading symbol(s)|Name of each exchange on which registered|\n",
      "|---|---|---|\n",
      "|0.000% Notes due 2025|—|The Nasdaq Stock Market LLC|\n",
      "|0.875% Notes due 2025|—|The Nasdaq Stock Market LLC|\n",
      "|1.625% Notes due 2026|—|The Nasdaq Stock Market LLC|\n",
      "|2.000% Notes due 2027|—|The Nasdaq Stock Market LLC|\n",
      "|1.375% Notes due 2029|—|The Nasdaq Stock Market LLC|\n",
      "|3.050% Notes due 2029|—|The Nasdaq Stock Market LLC|\n",
      "|0.500% Notes due 2031|—|The Nasdaq Stock Market LLC|\n",
      "|3.600% Notes due 2042|—|The Nasdaq Stock Market LLC|\n",
      "\n",
      "\u001b[0m\u001b[1;3;38;5;200mRetrieved node with id, entering: 1740821d-2d11-48d1-9e75-f47b2feafe74\n",
      "\u001b[0m\u001b[1;3;34mRetrieving with query id 1740821d-2d11-48d1-9e75-f47b2feafe74: What is the title of this document?\n",
      "\u001b[0m\u001b[1;3;38;2;11;159;203mRetrieval entering 551fcc22-56c4-4dc9-b138-f2070390fde1: TextNode\n",
      "\u001b[0m\u001b[1;3;34mRetrieving with query id None: What is the ticker of the stock discussed in this document (if any)?\n",
      "\u001b[0m\u001b[1;3;38;5;200mRetrieving text node: If an emerging growth company, indicate by check mark if the Registrant has elected not to use the extended transition period for complying with any new or revised financial accounting standards provided pursuant to Section 13(a) of the Exchange Act. ☐\n",
      "\n",
      "Indicate by check mark whether the Registrant has filed a report on and attestation to its management’s assessment of the effectiveness of its internal control over financial reporting under Section 404(b) of the Sarbanes-Oxley Act (15 U.S.C. 7262(b)) by the registered public accounting firm that prepared or issued its audit report. ☒\n",
      "\n",
      "If securities are registered pursuant to Section 12(b) of the Act, indicate by check mark whether the financial statements of the registrant included in the filing reflect the correction of an error to previously issued financial statements. ☐\n",
      "\n",
      "Indicate by check mark whether any of those error corrections are restatements that required a recovery analysis of incentive-based compensation received by any of the registrant’s executive officers during the relevant recovery period pursuant to §240.10D-1(b). ☐\n",
      "\n",
      "Indicate by check mark whether the Registrant is a shell company (as defined in Rule 12b-2 of the Act).\n",
      "\n",
      "Yes ☐ No ☒\n",
      "\n",
      "The aggregate market value of the voting and non-voting stock held by non-affiliates of the Registrant, as of March 29, 2024, the last business day of the Registrant’s most recently completed second fiscal quarter, was approximately $2,628,553,000,000. Solely for purposes of this disclosure, shares of common stock held by executive officers and directors of the Registrant as of such date have been excluded because such persons may be deemed to be affiliates. This determination of executive officers and directors as affiliates is not necessarily a conclusive determination for any other purposes.\n",
      "\n",
      "15,115,823,000 shares of common stock were issued and outstanding as of October 18, 2024.\n",
      "\u001b[0m\u001b[1;3;38;5;200mRetrieving text node: 15,115,823,000 shares of common stock were issued and outstanding as of October 18, 2024.\n",
      "\u001b[0m\u001b[1;3;38;5;200mRetrieving text node: If an emerging growth company, indicate by check mark if the Registrant has elected not to use the extended transition period for complying with any new or revised financial accounting standards provided pursuant to Section 13(a) of the Exchange Act. \n",
      "\u001b[0m\u001b[1;3;38;5;200mRetrieved node with id, entering: ee4ca6be-4e52-49a6-aa49-e1cb409ed9f8\n",
      "\u001b[0m\u001b[1;3;34mRetrieving with query id ee4ca6be-4e52-49a6-aa49-e1cb409ed9f8: What is the ticker of the stock discussed in this document (if any)?\n",
      "\u001b[0m\u001b[1;3;38;5;200mRetrieving text node: This determination of executive officers and directors as affiliates is not necessarily a conclusive determination for any other purposes.\n",
      "\n",
      "\n",
      "\u001b[0m\u001b[1;3;38;5;200mRetrieving text node: Yes ☐ No ☒\n",
      "\n",
      "The aggregate market value of the voting and non-voting stock held by non-affiliates of the Registrant, as of March 29, 2024, the last business day of the Registrant’s most recently completed second fiscal quarter, was approximately $2,628,553,000,000. \n",
      "\u001b[0m\u001b[1;3;38;5;200mRetrieving text node: ☐\n",
      "\n",
      "Indicate by check mark whether the Registrant is a shell company (as defined in Rule 12b-2 of the Act).\n",
      "\n",
      "\n",
      "\u001b[0m\u001b[1;3;38;5;200mRetrieving text node: The Company’s business, reputation, results of operations, financial condition and stock price can be affected by a number of factors, whether currently known or unknown, including those described below. \n",
      "\u001b[0m\u001b[1;3;38;5;200mRetrieved node with id, entering: 5498d882-613b-46db-8da0-e25fff1735e4\n",
      "\u001b[0m\u001b[1;3;34mRetrieving with query id 5498d882-613b-46db-8da0-e25fff1735e4: What is the ticker of the stock discussed in this document (if any)?\n",
      "\u001b[0m\u001b[1;3;38;5;200mRetrieved node with id, entering: b44105c1-f390-4eb1-9f1c-71b752c35b40\n",
      "\u001b[0m\u001b[1;3;34mRetrieving with query id b44105c1-f390-4eb1-9f1c-71b752c35b40: What is the ticker of the stock discussed in this document (if any)?\n",
      "\u001b[0m\u001b[1;3;38;5;200mRetrieved node with id, entering: d2ba5ac8-34c2-48ca-9b08-48d2cb73587f\n",
      "\u001b[0m\u001b[1;3;34mRetrieving with query id d2ba5ac8-34c2-48ca-9b08-48d2cb73587f: What is the ticker of the stock discussed in this document (if any)?\n",
      "\u001b[0m\u001b[1;3;38;5;200mRetrieving text node: Solely for purposes of this disclosure, shares of common stock held by executive officers and directors of the Registrant as of such date have been excluded because such persons may be deemed to be affiliates. \n",
      "\u001b[0m\u001b[1;3;38;5;200mRetrieving text node: Table listing the different items and corresponding page numbers in a document.,\n",
      "with the following columns:\n",
      "- Part I: None\n",
      "- Page: None\n",
      "\n",
      "|Part I|Page|\n",
      "|---|---|\n",
      "|Item 1A. Risk Factors|5|\n",
      "|Item 1B. Unresolved Staff Comments|17|\n",
      "|Item 1C. Cybersecurity|17|\n",
      "|Item 2. Properties|18|\n",
      "|Item 3. Legal Proceedings|18|\n",
      "|Item 4. Mine Safety Disclosures|18|\n",
      "|Part II| |\n",
      "|Item 5. Market for Registrant’s Common Equity, Related Stockholder Matters and Issuer Purchases of Equity Securities|19|\n",
      "|Item 6. [Reserved]|20|\n",
      "|Item 7. Management’s Discussion and Analysis of Financial Condition and Results of Operations|21|\n",
      "|Item 7A. Quantitative and Qualitative Disclosures About Market Risk|27|\n",
      "|Item 8. Financial Statements and Supplementary Data|28|\n",
      "|Item 9. Changes in and Disagreements with Accountants on Accounting and Financial Disclosure|51|\n",
      "|Item 9A. Controls and Procedures|51|\n",
      "|Item 9B. Other Information|52|\n",
      "|Item 9C. Disclosure Regarding Foreign Jurisdictions that Prevent Inspections|52|\n",
      "|Part III| |\n",
      "|Item 10. Directors, Executive Officers and Corporate Governance|52|\n",
      "|Item 11. Executive Compensation|52|\n",
      "|Item 12. Security Ownership of Certain Beneficial Owners and Management and Related Stockholder Matters|52|\n",
      "|Item 13. Certain Relationships and Related Transactions, and Director Independence|52|\n",
      "|Item 14. Principal Accountant Fees and Services|52|\n",
      "|Part IV| |\n",
      "|Item 15. Exhibit and Financial Statement Schedules|53|\n",
      "|Item 16. Form 10-K Summary|56|\n",
      "\n",
      "\u001b[0m\u001b[1;3;38;5;200mRetrieving text node: ☐\n",
      "\n",
      "Indicate by check mark whether the Registrant has filed a report on and attestation to its management’s assessment of the effectiveness of its internal control over financial reporting under Section 404(b) of the Sarbanes-Oxley Act (15 U.S.C. \n",
      "\u001b[0m\u001b[1;3;34mRetrieving with query id None: What is the name of the company discussed in this document?\n",
      "\u001b[0m\u001b[1;3;38;5;200mRetrieving text node: This discussion of risk factors contains forward-looking statements.\n",
      "\n",
      "\n",
      "\u001b[0m\u001b[1;3;38;5;200mRetrieving text node: The Company faces significant competition as competitors imitate the Company’s product features and applications within their products, or collaborate to offer integrated solutions that are more competitive than those they currently offer.\n",
      "\u001b[0m\u001b[1;3;38;5;200mRetrieving text node: Commission File Number: 001-36743\n",
      "\u001b[0m\u001b[1;3;38;5;200mRetrieved node with id, entering: e48f1741-a769-4abc-813f-119eb1c4e9d7\n",
      "\u001b[0m\u001b[1;3;34mRetrieving with query id e48f1741-a769-4abc-813f-119eb1c4e9d7: What is the name of the company discussed in this document?\n",
      "\u001b[0m\u001b[1;3;38;5;200mRetrieving text node: The Company is committed to protecting its team members everywhere it operates. The Company identifies potential workplace risks in order to develop measures to mitigate possible hazards. The Company supports employees with general safety, security and crisis management training, and by putting specific programs in place for those working in potentially high-hazard environments. Additionally, the Company works to protect the safety and security of its team members, visitors and customers through its global security team.\n",
      "\n",
      "Apple Inc.| 2024 Form 10-K| 4\n",
      "\u001b[0m\u001b[1;3;38;5;200mRetrieved node with id, entering: bbeba44b-87c4-4bcc-b6c1-1947652a9dff\n",
      "\u001b[0m\u001b[1;3;34mRetrieving with query id bbeba44b-87c4-4bcc-b6c1-1947652a9dff: What is the name of the company discussed in this document?\n",
      "\u001b[0m\u001b[1;3;38;5;200mRetrieving text node: The Company continues to develop new technologies to enhance existing products and services, and to expand the range of its offerings through research and development (“R&D”), licensing of intellectual property and acquisition of third-party businesses and technology.\n",
      "\u001b[0m\u001b[1;3;38;5;200mRetrieving text node: (Exact name of Registrant as specified in its charter)\n",
      "\n",
      "California          94-2404110\n",
      "\n",
      "of (State or other jurisdiction          (I.R.S. \n",
      "\u001b[0m\u001b[1;3;38;5;200mRetrieved node with id, entering: b44105c1-f390-4eb1-9f1c-71b752c35b40\n",
      "\u001b[0m\u001b[1;3;34mRetrieving with query id b44105c1-f390-4eb1-9f1c-71b752c35b40: What is the name of the company discussed in this document?\n",
      "\u001b[0m\u001b[1;3;38;5;200mRetrieving text node: Changing the Company’s business and supply chain in accordance with new or changed restrictions on international trade can be expensive, time-consuming and disruptive to the Company’s operations. \n",
      "\u001b[0m\u001b[1;3;38;5;200mRetrieving text node: Table listing the different items and corresponding page numbers in a document.,\n",
      "with the following columns:\n",
      "- Part I: None\n",
      "- Page: None\n",
      "\n",
      "|Part I|Page|\n",
      "|---|---|\n",
      "|Item 1A. Risk Factors|5|\n",
      "|Item 1B. Unresolved Staff Comments|17|\n",
      "|Item 1C. Cybersecurity|17|\n",
      "|Item 2. Properties|18|\n",
      "|Item 3. Legal Proceedings|18|\n",
      "|Item 4. Mine Safety Disclosures|18|\n",
      "|Part II| |\n",
      "|Item 5. Market for Registrant’s Common Equity, Related Stockholder Matters and Issuer Purchases of Equity Securities|19|\n",
      "|Item 6. [Reserved]|20|\n",
      "|Item 7. Management’s Discussion and Analysis of Financial Condition and Results of Operations|21|\n",
      "|Item 7A. Quantitative and Qualitative Disclosures About Market Risk|27|\n",
      "|Item 8. Financial Statements and Supplementary Data|28|\n",
      "|Item 9. Changes in and Disagreements with Accountants on Accounting and Financial Disclosure|51|\n",
      "|Item 9A. Controls and Procedures|51|\n",
      "|Item 9B. Other Information|52|\n",
      "|Item 9C. Disclosure Regarding Foreign Jurisdictions that Prevent Inspections|52|\n",
      "|Part III| |\n",
      "|Item 10. Directors, Executive Officers and Corporate Governance|52|\n",
      "|Item 11. Executive Compensation|52|\n",
      "|Item 12. Security Ownership of Certain Beneficial Owners and Management and Related Stockholder Matters|52|\n",
      "|Item 13. Certain Relationships and Related Transactions, and Director Independence|52|\n",
      "|Item 14. Principal Accountant Fees and Services|52|\n",
      "|Part IV| |\n",
      "|Item 15. Exhibit and Financial Statement Schedules|53|\n",
      "|Item 16. Form 10-K Summary|56|\n",
      "\n",
      "\u001b[0m\u001b[1;3;38;5;200mRetrieving text node: (Mark One)\n",
      "\n",
      "☒ ANNUAL REPORT PURSUANT TO SECTION 13 OR 15(d) OF THE SECURITIES EXCHANGE ACT OF 1934\n",
      "\n",
      "For the fiscal year ended September 28, 2024\n",
      "\n",
      "or\n",
      "\n",
      "☐ TRANSITION REPORT PURSUANT TO SECTION 13 OR 15(d) OF THE SECURITIES EXCHANGE ACT OF 1934\n",
      "\n",
      "For the transition period from          to         .\n",
      "\n",
      "Commission File Number: 001-36743\n",
      "\u001b[0m\u001b[1;3;38;5;200mRetrieved node with id, entering: 9f596986-8365-42e1-9d10-1b38579e2f4f\n",
      "\u001b[0m\u001b[1;3;34mRetrieving with query id 9f596986-8365-42e1-9d10-1b38579e2f4f: What is the name of the company discussed in this document?\n",
      "\u001b[0m\u001b[1;3;38;5;200mRetrieving text node: In addition to Company-owned intellectual property, many of the Company’s products and services are designed to include intellectual property owned by third parties. \n",
      "\u001b[0m\u001b[1;3;38;5;200mRetrieving text node: Because the industries in which the Company competes are characterized by rapid technological advances, the Company’s ability to compete successfully depends heavily upon its ability to ensure a continual and timely flow of competitive products, services and technologies to the marketplace. \n",
      "\u001b[0m\u001b[1;3;34mRetrieving with query id None: What is the source of this document? This should be one of the following: sec_filings, earning_call, investor_relations_release, other_third_party, internal\n",
      "\u001b[0m\u001b[1;3;38;5;200mRetrieving text node: This includes press releases and other information about financial performance, information on environmental, social and governance matters, and details related to the Company’s annual meeting of shareholders. \n",
      "\u001b[0m\u001b[1;3;38;5;200mRetrieving text node: Securities and Exchange Commission (the “SEC”). \n",
      "\u001b[0m\u001b[1;3;38;5;200mRetrieving text node: Table listing the different items and corresponding page numbers in a document.,\n",
      "with the following columns:\n",
      "- Part I: None\n",
      "- Page: None\n",
      "\n",
      "|Part I|Page|\n",
      "|---|---|\n",
      "|Item 1A. Risk Factors|5|\n",
      "|Item 1B. Unresolved Staff Comments|17|\n",
      "|Item 1C. Cybersecurity|17|\n",
      "|Item 2. Properties|18|\n",
      "|Item 3. Legal Proceedings|18|\n",
      "|Item 4. Mine Safety Disclosures|18|\n",
      "|Part II| |\n",
      "|Item 5. Market for Registrant’s Common Equity, Related Stockholder Matters and Issuer Purchases of Equity Securities|19|\n",
      "|Item 6. [Reserved]|20|\n",
      "|Item 7. Management’s Discussion and Analysis of Financial Condition and Results of Operations|21|\n",
      "|Item 7A. Quantitative and Qualitative Disclosures About Market Risk|27|\n",
      "|Item 8. Financial Statements and Supplementary Data|28|\n",
      "|Item 9. Changes in and Disagreements with Accountants on Accounting and Financial Disclosure|51|\n",
      "|Item 9A. Controls and Procedures|51|\n",
      "|Item 9B. Other Information|52|\n",
      "|Item 9C. Disclosure Regarding Foreign Jurisdictions that Prevent Inspections|52|\n",
      "|Part III| |\n",
      "|Item 10. Directors, Executive Officers and Corporate Governance|52|\n",
      "|Item 11. Executive Compensation|52|\n",
      "|Item 12. Security Ownership of Certain Beneficial Owners and Management and Related Stockholder Matters|52|\n",
      "|Item 13. Certain Relationships and Related Transactions, and Director Independence|52|\n",
      "|Item 14. Principal Accountant Fees and Services|52|\n",
      "|Part IV| |\n",
      "|Item 15. Exhibit and Financial Statement Schedules|53|\n",
      "|Item 16. Form 10-K Summary|56|\n",
      "\n",
      "\u001b[0m\u001b[1;3;38;5;200mRetrieving text node: The information contained on the websites referenced in this Form 10-K is not incorporated by reference into this filing. \n",
      "\u001b[0m\u001b[1;3;38;5;200mRetrieving text node: The Company’s Annual Reports on Form 10-K, Quarterly Reports on Form 10-Q, Current Reports on Form 8-K, and amendments to reports filed pursuant to Sections 13(a) and 15(d) of the Securities Exchange Act of 1934, as amended (the “Exchange Act”), are filed with the U.S. \n",
      "\u001b[0m\u001b[1;3;34mRetrieving with query id None: What is the date of the document? This should be the date the document was filed, for example if the document is a 10-K, the date should be the date of the 10-K. Format it as YYYY-MM-DD. \n",
      "\u001b[0m\u001b[1;3;38;5;200mRetrieving text node: The Company’s Annual Reports on Form 10-K, Quarterly Reports on Form 10-Q, Current Reports on Form 8-K, and amendments to reports filed pursuant to Sections 13(a) and 15(d) of the Securities Exchange Act of 1934, as amended (the “Exchange Act”), are filed with the U.S. \n",
      "\u001b[0m\u001b[1;3;38;5;200mRetrieving text node: Forward-looking statements are not guarantees of future performance and the Company’s actual results may differ significantly from the results discussed in the forward-looking statements. \n",
      "\u001b[0m\u001b[1;3;38;5;200mRetrieving text node: Commission File Number: 001-36743\n",
      "\u001b[0m\u001b[1;3;38;5;200mRetrieving text node: (Mark One)\n",
      "\n",
      "☒ ANNUAL REPORT PURSUANT TO SECTION 13 OR 15(d) OF THE SECURITIES EXCHANGE ACT OF 1934\n",
      "\n",
      "For the fiscal year ended September 28, 2024\n",
      "\n",
      "or\n",
      "\n",
      "☐ TRANSITION REPORT PURSUANT TO SECTION 13 OR 15(d) OF THE SECURITIES EXCHANGE ACT OF 1934\n",
      "\n",
      "For the transition period from          to         .\n",
      "\n",
      "\n",
      "\u001b[0m\u001b[1;3;38;5;200mRetrieving text node: The Company’s Annual Reports on Form 10-K, Quarterly Reports on Form 10-Q, Current Reports on Form 8-K, and amendments to reports filed pursuant to Sections 13(a) and 15(d) of the Securities Exchange Act of 1934, as amended (the “Exchange Act”), are filed with the U.S. Securities and Exchange Commission (the “SEC”). Such reports and other information filed by the Company with the SEC are available free of charge at investor.apple.com/investor-relations/sec-filings/default.aspx when such reports are available on the SEC’s website. The Company periodically provides certain information for investors on its corporate website, www.apple.com, and its investor relations website, investor.apple.com. This includes press releases and other information about financial performance, information on environmental, social and governance matters, and details related to the Company’s annual meeting of shareholders. The information contained on the websites referenced in this Form 10-K is not incorporated by reference into this filing. Further, the Company’s references to website URLs are intended to be inactive textual references only.\n",
      "\u001b[0m\u001b[1;3;38;5;200mRetrieved node with id, entering: 1740821d-2d11-48d1-9e75-f47b2feafe74\n",
      "\u001b[0m\u001b[1;3;34mRetrieving with query id 1740821d-2d11-48d1-9e75-f47b2feafe74: What is the date of the document? This should be the date the document was filed, for example if the document is a 10-K, the date should be the date of the 10-K. Format it as YYYY-MM-DD. \n",
      "\u001b[0m\u001b[1;3;38;5;200mRetrieving text node: Table listing the different items and corresponding page numbers in a document.,\n",
      "with the following columns:\n",
      "- Part I: None\n",
      "- Page: None\n",
      "\n",
      "|Part I|Page|\n",
      "|---|---|\n",
      "|Item 1A. Risk Factors|5|\n",
      "|Item 1B. Unresolved Staff Comments|17|\n",
      "|Item 1C. Cybersecurity|17|\n",
      "|Item 2. Properties|18|\n",
      "|Item 3. Legal Proceedings|18|\n",
      "|Item 4. Mine Safety Disclosures|18|\n",
      "|Part II| |\n",
      "|Item 5. Market for Registrant’s Common Equity, Related Stockholder Matters and Issuer Purchases of Equity Securities|19|\n",
      "|Item 6. [Reserved]|20|\n",
      "|Item 7. Management’s Discussion and Analysis of Financial Condition and Results of Operations|21|\n",
      "|Item 7A. Quantitative and Qualitative Disclosures About Market Risk|27|\n",
      "|Item 8. Financial Statements and Supplementary Data|28|\n",
      "|Item 9. Changes in and Disagreements with Accountants on Accounting and Financial Disclosure|51|\n",
      "|Item 9A. Controls and Procedures|51|\n",
      "|Item 9B. Other Information|52|\n",
      "|Item 9C. Disclosure Regarding Foreign Jurisdictions that Prevent Inspections|52|\n",
      "|Part III| |\n",
      "|Item 10. Directors, Executive Officers and Corporate Governance|52|\n",
      "|Item 11. Executive Compensation|52|\n",
      "|Item 12. Security Ownership of Certain Beneficial Owners and Management and Related Stockholder Matters|52|\n",
      "|Item 13. Certain Relationships and Related Transactions, and Director Independence|52|\n",
      "|Item 14. Principal Accountant Fees and Services|52|\n",
      "|Part IV| |\n",
      "|Item 15. Exhibit and Financial Statement Schedules|53|\n",
      "|Item 16. Form 10-K Summary|56|\n",
      "\n",
      "\u001b[0m\u001b[1;3;38;5;200mRetrieved node with id, entering: 78fe3e1b-9912-4dc7-bb6e-58b2dd6ee0f0\n",
      "\u001b[0m\u001b[1;3;34mRetrieving with query id 78fe3e1b-9912-4dc7-bb6e-58b2dd6ee0f0: What is the date of the document? This should be the date the document was filed, for example if the document is a 10-K, the date should be the date of the 10-K. Format it as YYYY-MM-DD. \n",
      "\u001b[0m\u001b[1;3;38;5;200mRetrieving text node: (Mark One)\n",
      "\n",
      "☒ ANNUAL REPORT PURSUANT TO SECTION 13 OR 15(d) OF THE SECURITIES EXCHANGE ACT OF 1934\n",
      "\n",
      "For the fiscal year ended September 28, 2024\n",
      "\n",
      "or\n",
      "\n",
      "☐ TRANSITION REPORT PURSUANT TO SECTION 13 OR 15(d) OF THE SECURITIES EXCHANGE ACT OF 1934\n",
      "\n",
      "For the transition period from          to         .\n",
      "\n",
      "Commission File Number: 001-36743\n",
      "\u001b[0m\u001b[1;3;38;5;200mRetrieving text node: Many of the forward-looking statements are located in Part I, Item 1 of this Form 10-K under the heading “Business” and Part II, Item 7 of this Form 10-K under the heading “Management’s Discussion and Analysis of Financial Condition and Results of Operations.” Forward-looking statements provide current expectations of future events based on certain assumptions and include any statement that does not directly relate to any historical or current fact. \n",
      "\u001b[0m\u001b[1;3;38;5;200mRetrieving text node: Unless otherwise stated, all information presented herein is based on the Company’s fiscal calendar, and references to particular years, quarters, months or periods refer to the Company’s fiscal years ended in September and the associated quarters, months and periods of those fiscal years. \n",
      "\u001b[0m\u001b[1;3;38;5;200mRetrieving text node: and its wholly owned subsidiaries, unless otherwise stated.\n",
      "\u001b[0m\u001b[1;3;38;2;11;159;203mRetrieval entering 551fcc22-56c4-4dc9-b138-f2070390fde1: TextNode\n",
      "\u001b[0m"
     ]
    },
    {
     "name": "stderr",
     "output_type": "stream",
     "text": [
      "Extracting metadata: 100%|██████████| 7/7 [00:16<00:00,  2.30s/it]"
     ]
    },
    {
     "name": "stdout",
     "output_type": "stream",
     "text": [
      " - building mix retriever query engine tool...\n",
      " - building summary query engine tool...\n",
      " - building question generator ...\n",
      " - building sub question query engine ...\n",
      " - building sub question query engine tool ...\n"
     ]
    },
    {
     "name": "stderr",
     "output_type": "stream",
     "text": [
      "\n"
     ]
    }
   ],
   "source": [
    "file_path = \"/Users/ronald/Documents/code/equity-ai-navigator/ml/tools/doc_search/artifacts/test.pdf\"\n",
    "file_name = \"test.pdf\"\n",
    "\n",
    "dtl = DocToolLoader()\n",
    "tw = await dtl.load(file_path, file_name)\n"
   ]
  },
  {
   "cell_type": "code",
   "execution_count": null,
   "metadata": {},
   "outputs": [],
   "source": []
  }
 ],
 "metadata": {
  "kernelspec": {
   "display_name": ".venv",
   "language": "python",
   "name": "python3"
  },
  "language_info": {
   "codemirror_mode": {
    "name": "ipython",
    "version": 3
   },
   "file_extension": ".py",
   "mimetype": "text/x-python",
   "name": "python",
   "nbconvert_exporter": "python",
   "pygments_lexer": "ipython3",
   "version": "3.13.3"
  }
 },
 "nbformat": 4,
 "nbformat_minor": 2
}
