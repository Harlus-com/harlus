{
 "cells": [
  {
   "cell_type": "code",
   "execution_count": 9,
   "metadata": {},
   "outputs": [],
   "source": [
    "from harlus_chat import GraphPipeline\n",
    "from doc_search import DocToolLoader\n",
    "import nest_asyncio\n",
    "nest_asyncio.apply()\n"
   ]
  },
  {
   "cell_type": "code",
   "execution_count": 12,
   "metadata": {},
   "outputs": [
    {
     "name": "stdout",
     "output_type": "stream",
     "text": [
      "Creating nodes for /Users/ronald/Documents/code/harlus/ml/agents/harlus_chat/attributes/test1.pdf ...\n",
      " - parsing PDF to JSON...\n",
      "Started parsing the file under job_id fe43ede9-5eb1-4a26-b934-bf0b0953b24e\n",
      " - creating nodes from JSON...\n"
     ]
    },
    {
     "name": "stderr",
     "output_type": "stream",
     "text": [
      "100%|██████████| 70/70 [00:00<00:00, 49712.37it/s]\n"
     ]
    },
    {
     "name": "stdout",
     "output_type": "stream",
     "text": [
      " - adding node relationships...\n",
      " - splitting tables...\n"
     ]
    },
    {
     "name": "stderr",
     "output_type": "stream",
     "text": [
      "  > splitting tables:   0%|          | 0/38 [00:00<?, ?it/s]\n",
      "\u001b[A\n",
      "\n",
      "1it [00:00, 438.92it/s]\n",
      "1it [00:00, 474.31it/s]\n",
      "1it [00:00, 362.20it/s]\n",
      "  > splitting tables: 100%|██████████| 38/38 [00:01<00:00, 24.71it/s]\n"
     ]
    },
    {
     "name": "stdout",
     "output_type": "stream",
     "text": [
      " - adding metadata to nodes...\n",
      "  > extracting metadata for SummaryExtractor ...\n"
     ]
    },
    {
     "name": "stderr",
     "output_type": "stream",
     "text": [
      "100%|██████████| 39/39 [00:05<00:00,  7.41it/s]\n"
     ]
    },
    {
     "name": "stdout",
     "output_type": "stream",
     "text": [
      "  > extracting metadata for KeywordExtractor ...\n"
     ]
    },
    {
     "name": "stderr",
     "output_type": "stream",
     "text": [
      "100%|██████████| 39/39 [00:01<00:00, 26.73it/s]\n"
     ]
    },
    {
     "name": "stdout",
     "output_type": "stream",
     "text": [
      " - splitting text nodes...\n"
     ]
    },
    {
     "name": "stderr",
     "output_type": "stream",
     "text": [
      "  > splitting text nodes: 100%|██████████| 156/156 [00:00<00:00, 5304.34it/s]\n",
      "<string>:5: RuntimeWarning: coroutine 'LlamaParse.aget_json' was never awaited\n",
      "RuntimeWarning: Enable tracemalloc to get the object allocation traceback\n"
     ]
    },
    {
     "name": "stdout",
     "output_type": "stream",
     "text": [
      " - adding file path to nodes...\n",
      "getting single doc query engine from nodes\n",
      " - building vector index ...\n",
      " - building vector retriever ...\n",
      " - building keyword index ...\n",
      " - building summary index ...\n",
      " - building keyword retriever ...\n",
      " - building mix keyword vector retriever ...\n",
      " - building recursive keyword vector retriever ...\n",
      " - building mix keyword vector retriever query engine ...\n",
      " - building summary index query engine...\n",
      " - extracting metadata from query engines...\n"
     ]
    },
    {
     "name": "stderr",
     "output_type": "stream",
     "text": [
      "Extracting metadata: 100%|██████████| 7/7 [00:19<00:00,  2.79s/it]"
     ]
    },
    {
     "name": "stdout",
     "output_type": "stream",
     "text": [
      " - building mix retriever query engine tool...\n"
     ]
    },
    {
     "name": "stderr",
     "output_type": "stream",
     "text": [
      "\n"
     ]
    }
   ],
   "source": [
    "toolloader = await DocToolLoader().load(\n",
    "    file_path=\"/Users/ronald/Documents/code/harlus/ml/agents/harlus_chat/attributes/test1.pdf\",\n",
    "    file_name= \"test1\"\n",
    ")\n",
    "tool = toolloader.get()"
   ]
  },
  {
   "cell_type": "code",
   "execution_count": 15,
   "metadata": {},
   "outputs": [],
   "source": [
    "gp = GraphPipeline([tool.to_langchain_tool()])\n",
    "g =  gp.build_graph()"
   ]
  },
  {
   "cell_type": "code",
   "execution_count": 16,
   "metadata": {},
   "outputs": [],
   "source": [
    "async for chunk in gp.event_stream_generator(\"Did apple have a business segment in the americas?\"):\n",
    "    print(chunk, end=\"||\", flush=True)"
   ]
  },
  {
   "cell_type": "code",
   "execution_count": 17,
   "metadata": {},
   "outputs": [],
   "source": [
    "from rapidfuzz.fuzz import partial_ratio\n",
    "\n",
    "def symmetric_fuzzy_overlap(s1: str, s2: str) -> float:\n",
    "    \"\"\"\n",
    "    Compute the average of how well s1 overlaps with s2 and vice versa.\n",
    "    \"\"\"\n",
    "    s1 = s1.strip().lower()\n",
    "    s2 = s2.strip().lower()\n",
    "\n",
    "    score1 = partial_ratio(s1, s2)  # How much of s1 is in s2\n",
    "    score2 = partial_ratio(s2, s1)  # How much of s2 is in s1\n",
    "\n",
    "    return (score1 + score2) / 2"
   ]
  },
  {
   "cell_type": "code",
   "execution_count": null,
   "metadata": {},
   "outputs": [],
   "source": []
  },
  {
   "cell_type": "code",
   "execution_count": null,
   "metadata": {},
   "outputs": [],
   "source": []
  }
 ],
 "metadata": {
  "kernelspec": {
   "display_name": ".venv",
   "language": "python",
   "name": "python3"
  },
  "language_info": {
   "codemirror_mode": {
    "name": "ipython",
    "version": 3
   },
   "file_extension": ".py",
   "mimetype": "text/x-python",
   "name": "python",
   "nbconvert_exporter": "python",
   "pygments_lexer": "ipython3",
   "version": "3.13.3"
  }
 },
 "nbformat": 4,
 "nbformat_minor": 2
}
