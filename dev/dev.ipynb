{
 "cells": [
  {
   "cell_type": "code",
   "execution_count": 1,
   "metadata": {},
   "outputs": [],
   "source": [
    "import sys\n",
    "sys.path.append(\"/Users/ronald/Documents/code/harlus/server\")\n"
   ]
  },
  {
   "cell_type": "markdown",
   "metadata": {},
   "source": [
    "### Test installation"
   ]
  },
  {
   "cell_type": "code",
   "execution_count": 2,
   "metadata": {},
   "outputs": [],
   "source": [
    "import harlus_doc_search\n",
    "import harlus_chat\n",
    "import harlus_contrast_tool\n"
   ]
  },
  {
   "cell_type": "markdown",
   "metadata": {},
   "source": [
    "### Simulate app startup"
   ]
  },
  {
   "cell_type": "code",
   "execution_count": 3,
   "metadata": {},
   "outputs": [
    {
     "name": "stdout",
     "output_type": "stream",
     "text": [
      "APP_DATA_PATH /Users/ronald/Library/Application Support/Electron/Harlus\n",
      "Initializing FileStore with app_data_path /Users/ronald/Library/Application Support/Electron/Harlus\n"
     ]
    },
    {
     "ename": "ModuleNotFoundError",
     "evalue": "No module named 'contrast_tool.mixed_retriever'",
     "output_type": "error",
     "traceback": [
      "\u001b[31m---------------------------------------------------------------------------\u001b[39m",
      "\u001b[31mModuleNotFoundError\u001b[39m                       Traceback (most recent call last)",
      "\u001b[36mCell\u001b[39m\u001b[36m \u001b[39m\u001b[32mIn[3]\u001b[39m\u001b[32m, line 73\u001b[39m\n\u001b[32m     70\u001b[39m file_store = FileStore(APP_DATA_PATH)\n\u001b[32m     72\u001b[39m tool_library = ToolLibrary(file_store)\n\u001b[32m---> \u001b[39m\u001b[32m73\u001b[39m \u001b[43mtool_library\u001b[49m\u001b[43m.\u001b[49m\u001b[43mload_tools\u001b[49m\u001b[43m(\u001b[49m\u001b[43m)\u001b[49m\n\u001b[32m     76\u001b[39m \u001b[38;5;66;03m# TODO: chat_library should call update_chat_tools when new tools\u001b[39;00m\n\u001b[32m     77\u001b[39m \u001b[38;5;66;03m# are added to the tool_library to ensure chat has access to all tools \u001b[39;00m\n\u001b[32m     78\u001b[39m \u001b[38;5;66;03m# within the workspace. \u001b[39;00m\n\u001b[32m     79\u001b[39m chat_library = ChatLibrary(file_store, tool_library)\n",
      "\u001b[36mFile \u001b[39m\u001b[32m~/Documents/code/harlus/server/src/tool_library.py:41\u001b[39m, in \u001b[36mToolLibrary.load_tools\u001b[39m\u001b[34m(self)\u001b[39m\n\u001b[32m     36\u001b[39m     \u001b[38;5;28;01mcontinue\u001b[39;00m\n\u001b[32m     37\u001b[39m \u001b[38;5;28;01mwith\u001b[39;00m \u001b[38;5;28mopen\u001b[39m(tool_file, \u001b[33m\"\u001b[39m\u001b[33mrb\u001b[39m\u001b[33m\"\u001b[39m) \u001b[38;5;28;01mas\u001b[39;00m f:\n\u001b[32m     38\u001b[39m     \u001b[38;5;66;03m# TODO: As a saftey we should check that the the unpickled tool corresponds to the given file\u001b[39;00m\n\u001b[32m     39\u001b[39m     \u001b[38;5;66;03m# We can do this by storing the file hash next to the tool\u001b[39;00m\n\u001b[32m     40\u001b[39m     \u001b[38;5;66;03m# Then we can check that the file hash matches the current file on disk, otherwise discard the tool\u001b[39;00m\n\u001b[32m---> \u001b[39m\u001b[32m41\u001b[39m     tool = \u001b[43mdill\u001b[49m\u001b[43m.\u001b[49m\u001b[43mload\u001b[49m\u001b[43m(\u001b[49m\u001b[43mf\u001b[49m\u001b[43m)\u001b[49m\n\u001b[32m     42\u001b[39m     tool_wrapper = ToolWrapper(tool, tool_dir, debug_info={})\n\u001b[32m     43\u001b[39m     \u001b[38;5;28mself\u001b[39m.file_tools[file.absolute_path].append(tool_wrapper)\n",
      "\u001b[36mFile \u001b[39m\u001b[32m~/Documents/code/harlus/python/env/.venv/lib/python3.13/site-packages/dill/_dill.py:287\u001b[39m, in \u001b[36mload\u001b[39m\u001b[34m(file, ignore, **kwds)\u001b[39m\n\u001b[32m    281\u001b[39m \u001b[38;5;28;01mdef\u001b[39;00m\u001b[38;5;250m \u001b[39m\u001b[34mload\u001b[39m(file, ignore=\u001b[38;5;28;01mNone\u001b[39;00m, **kwds):\n\u001b[32m    282\u001b[39m \u001b[38;5;250m    \u001b[39m\u001b[33;03m\"\"\"\u001b[39;00m\n\u001b[32m    283\u001b[39m \u001b[33;03m    Unpickle an object from a file.\u001b[39;00m\n\u001b[32m    284\u001b[39m \n\u001b[32m    285\u001b[39m \u001b[33;03m    See :func:`loads` for keyword arguments.\u001b[39;00m\n\u001b[32m    286\u001b[39m \u001b[33;03m    \"\"\"\u001b[39;00m\n\u001b[32m--> \u001b[39m\u001b[32m287\u001b[39m     \u001b[38;5;28;01mreturn\u001b[39;00m \u001b[43mUnpickler\u001b[49m\u001b[43m(\u001b[49m\u001b[43mfile\u001b[49m\u001b[43m,\u001b[49m\u001b[43m \u001b[49m\u001b[43mignore\u001b[49m\u001b[43m=\u001b[49m\u001b[43mignore\u001b[49m\u001b[43m,\u001b[49m\u001b[43m \u001b[49m\u001b[43m*\u001b[49m\u001b[43m*\u001b[49m\u001b[43mkwds\u001b[49m\u001b[43m)\u001b[49m\u001b[43m.\u001b[49m\u001b[43mload\u001b[49m\u001b[43m(\u001b[49m\u001b[43m)\u001b[49m\n",
      "\u001b[36mFile \u001b[39m\u001b[32m~/Documents/code/harlus/python/env/.venv/lib/python3.13/site-packages/dill/_dill.py:442\u001b[39m, in \u001b[36mUnpickler.load\u001b[39m\u001b[34m(self)\u001b[39m\n\u001b[32m    441\u001b[39m \u001b[38;5;28;01mdef\u001b[39;00m\u001b[38;5;250m \u001b[39m\u001b[34mload\u001b[39m(\u001b[38;5;28mself\u001b[39m): \u001b[38;5;66;03m#NOTE: if settings change, need to update attributes\u001b[39;00m\n\u001b[32m--> \u001b[39m\u001b[32m442\u001b[39m     obj = \u001b[43mStockUnpickler\u001b[49m\u001b[43m.\u001b[49m\u001b[43mload\u001b[49m\u001b[43m(\u001b[49m\u001b[38;5;28;43mself\u001b[39;49m\u001b[43m)\u001b[49m\n\u001b[32m    443\u001b[39m     \u001b[38;5;28;01mif\u001b[39;00m \u001b[38;5;28mtype\u001b[39m(obj).\u001b[34m__module__\u001b[39m == \u001b[38;5;28mgetattr\u001b[39m(_main_module, \u001b[33m'\u001b[39m\u001b[33m__name__\u001b[39m\u001b[33m'\u001b[39m, \u001b[33m'\u001b[39m\u001b[33m__main__\u001b[39m\u001b[33m'\u001b[39m):\n\u001b[32m    444\u001b[39m         \u001b[38;5;28;01mif\u001b[39;00m \u001b[38;5;129;01mnot\u001b[39;00m \u001b[38;5;28mself\u001b[39m._ignore:\n\u001b[32m    445\u001b[39m             \u001b[38;5;66;03m# point obj class to main\u001b[39;00m\n",
      "\u001b[36mFile \u001b[39m\u001b[32m~/Documents/code/harlus/python/env/.venv/lib/python3.13/site-packages/dill/_dill.py:432\u001b[39m, in \u001b[36mUnpickler.find_class\u001b[39m\u001b[34m(self, module, name)\u001b[39m\n\u001b[32m    430\u001b[39m     \u001b[38;5;28;01mreturn\u001b[39;00m \u001b[38;5;28mtype\u001b[39m(\u001b[38;5;28;01mNone\u001b[39;00m) \u001b[38;5;66;03m#XXX: special case: NoneType missing\u001b[39;00m\n\u001b[32m    431\u001b[39m \u001b[38;5;28;01mif\u001b[39;00m module == \u001b[33m'\u001b[39m\u001b[33mdill.dill\u001b[39m\u001b[33m'\u001b[39m: module = \u001b[33m'\u001b[39m\u001b[33mdill._dill\u001b[39m\u001b[33m'\u001b[39m\n\u001b[32m--> \u001b[39m\u001b[32m432\u001b[39m \u001b[38;5;28;01mreturn\u001b[39;00m \u001b[43mStockUnpickler\u001b[49m\u001b[43m.\u001b[49m\u001b[43mfind_class\u001b[49m\u001b[43m(\u001b[49m\u001b[38;5;28;43mself\u001b[39;49m\u001b[43m,\u001b[49m\u001b[43m \u001b[49m\u001b[43mmodule\u001b[49m\u001b[43m,\u001b[49m\u001b[43m \u001b[49m\u001b[43mname\u001b[49m\u001b[43m)\u001b[49m\n",
      "\u001b[31mModuleNotFoundError\u001b[39m: No module named 'contrast_tool.mixed_retriever'"
     ]
    }
   ],
   "source": [
    "import datetime\n",
    "import json\n",
    "import pickle\n",
    "import time\n",
    "from fastapi import (\n",
    "    FastAPI,\n",
    "    Query,\n",
    "    Response,\n",
    "    WebSocket,\n",
    ")\n",
    "import os\n",
    "import asyncio\n",
    "import nest_asyncio\n",
    "from fastapi.middleware.cors import CORSMiddleware\n",
    "from fastapi.responses import FileResponse, JSONResponse, StreamingResponse\n",
    "from openai import OpenAI\n",
    "from platformdirs import user_data_dir\n",
    "from pathlib import Path\n",
    "from llama_index.core.agent.workflow import ReActAgent\n",
    "\n",
    "from pydantic import BaseModel, ConfigDict, Field\n",
    "from src.util import BoundingBoxConverter, snake_to_camel\n",
    "from src.tool_library import ToolLibrary\n",
    "from src.sync_workspace import get_workspace_sync_manager\n",
    "\n",
    "# from src.stream_response import stream_generator_v2 # TODO: Delete this file\n",
    "from src.file_store import FileStore, Workspace, File\n",
    "from src.sync_queue import SyncQueue, SyncType\n",
    "from src.stream_manager import StreamManager\n",
    "from src.sync_status import SyncStatus\n",
    "from src.chat_library import ChatLibrary\n",
    "from harlus_contrast_tool import ContrastTool\n",
    "from harlus_chat import ChatAgentGraph\n",
    "\n",
    "\n",
    "app = FastAPI()\n",
    "app.add_middleware(\n",
    "    CORSMiddleware,\n",
    "    allow_origins=[\"*\"],\n",
    "    allow_credentials=False,\n",
    "    allow_methods=[\"*\"],\n",
    "    allow_headers=[\"*\"],\n",
    ")\n",
    "\n",
    "asyncio.set_event_loop_policy(asyncio.DefaultEventLoopPolicy())\n",
    "\n",
    "\n",
    "nest_asyncio.apply(asyncio)\n",
    "\n",
    "DEV_APP_DATA_PATH = Path(user_data_dir(\"Electron\")).joinpath(\"Harlus\")\n",
    "\n",
    "# On MacOs for development this will be something like\n",
    "# /Users/danielglasgow/Library/Application Support/Electron\n",
    "# TODO: Determine what this will be in production\n",
    "# Probably something like /Users/danielglasgow/Library/Application Support/Harlus\n",
    "# Also need to determine what this will be for Windows\n",
    "# Ultimately this value is passed in by the Electron app in prod.\n",
    "APP_DATA_PATH_STRING = os.environ.get(\"APP_DATA_PATH\")\n",
    "if (\n",
    "    not APP_DATA_PATH_STRING\n",
    "    or \"Electron\" in APP_DATA_PATH_STRING\n",
    "    or \"electron\" in APP_DATA_PATH_STRING\n",
    "):\n",
    "    APP_DATA_PATH = DEV_APP_DATA_PATH\n",
    "else:\n",
    "    APP_DATA_PATH = Path(APP_DATA_PATH_STRING)\n",
    "\n",
    "print(\"APP_DATA_PATH\", APP_DATA_PATH)\n",
    "\n",
    "file_store = FileStore(APP_DATA_PATH)\n",
    "\n",
    "tool_library = ToolLibrary(file_store)\n",
    "tool_library.load_tools()\n",
    "\n",
    "\n",
    "# TODO: chat_library should call update_chat_tools when new tools\n",
    "# are added to the tool_library to ensure chat has access to all tools \n",
    "# within the workspace. \n",
    "chat_library = ChatLibrary(file_store, tool_library)\n",
    "chat_library.load_chats() # initialize a chat for each workspace, load from disk to memory\n"
   ]
  },
  {
   "cell_type": "code",
   "execution_count": null,
   "metadata": {},
   "outputs": [],
   "source": []
  }
 ],
 "metadata": {
  "kernelspec": {
   "display_name": ".venv",
   "language": "python",
   "name": "python3"
  },
  "language_info": {
   "codemirror_mode": {
    "name": "ipython",
    "version": 3
   },
   "file_extension": ".py",
   "mimetype": "text/x-python",
   "name": "python",
   "nbconvert_exporter": "python",
   "pygments_lexer": "ipython3",
   "version": "3.13.3"
  }
 },
 "nbformat": 4,
 "nbformat_minor": 2
}
